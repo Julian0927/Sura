{
  "nbformat": 4,
  "nbformat_minor": 0,
  "metadata": {
    "colab": {
      "provenance": []
    },
    "kernelspec": {
      "name": "python3",
      "display_name": "Python 3"
    },
    "language_info": {
      "name": "python"
    }
  },
  "cells": [
    {
      "cell_type": "markdown",
      "source": [
        "![image.png](data:image/png;base64,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)"
      ],
      "metadata": {
        "id": "gMKdtLCuild2"
      }
    },
    {
      "cell_type": "markdown",
      "source": [
        "$ \\ $\n",
        "\n",
        "## ***Nombre: Julián Uribe Castañeda***\n",
        "\n",
        "## ***Prueba Técnica: Analista SARLAFT***"
      ],
      "metadata": {
        "id": "J26ZCCpx63MR"
      }
    },
    {
      "cell_type": "markdown",
      "source": [
        "$ \\ $\n",
        "\n",
        "----\n",
        "\n",
        "# ***Paquetes para trabajar***\n",
        "\n",
        "$ \\ $\n",
        "\n",
        "Los siguientes son algunos paquetes para trabajar con bases de datos y demás."
      ],
      "metadata": {
        "id": "0BLMq-tmiwaC"
      }
    },
    {
      "cell_type": "code",
      "execution_count": null,
      "metadata": {
        "id": "_l4Wsy2TiZID"
      },
      "outputs": [],
      "source": [
        "import pandas as pd\n",
        "import numpy as np\n",
        "import seaborn as sns\n",
        "import matplotlib.pyplot as plt\n",
        "from sklearn.preprocessing import LabelEncoder\n",
        "from sklearn.model_selection import train_test_split\n",
        "from sklearn import tree\n",
        "from sklearn.tree import DecisionTreeClassifier\n",
        "from sklearn.ensemble import RandomForestClassifier\n",
        "from sklearn import metrics\n",
        "from sklearn.metrics import classification_report, accuracy_score, f1_score, confusion_matrix, precision_recall_fscore_support, precision_score, recall_score"
      ]
    },
    {
      "cell_type": "code",
      "source": [
        "# Surpress numpy data type warnings\n",
        "import warnings\n",
        "warnings.filterwarnings(\"ignore\", category = DeprecationWarning)\n",
        "warnings.filterwarnings(\"ignore\", category = UserWarning)\n",
        "warnings.filterwarnings(\"ignore\", category = RuntimeWarning)\n",
        "warnings.filterwarnings(\"ignore\", category = FutureWarning)"
      ],
      "metadata": {
        "id": "ZHiMHyoqimHH"
      },
      "execution_count": null,
      "outputs": []
    },
    {
      "cell_type": "markdown",
      "source": [
        "$ \\ $\n",
        "\n",
        "-----\n",
        "\n",
        "## ***Transactions $(transacciones)$***\n",
        "\n",
        "$ \\ $\n",
        "\n",
        "Mostramos el conjunto de datos que describen las transacciones  (\"transactions\")."
      ],
      "metadata": {
        "id": "8wOA1JbAZLLc"
      }
    },
    {
      "cell_type": "code",
      "source": [
        "url = '/content/transactions.csv'\n",
        "data_1 = pd.read_csv(url, sep = ',')\n",
        "data_1"
      ],
      "metadata": {
        "id": "FomCM5a4ZTkB",
        "colab": {
          "base_uri": "https://localhost:8080/",
          "height": 423
        },
        "outputId": "d12add1c-8af9-4822-c5a4-0bd846e4ce0e"
      },
      "execution_count": null,
      "outputs": [
        {
          "output_type": "execute_result",
          "data": {
            "text/plain": [
              "           TX_ID  SENDER_ACCOUNT_ID  RECEIVER_ACCOUNT_ID   TX_TYPE  TX_AMOUNT  \\\n",
              "0              1               6456                 9069  TRANSFER     465.05   \n",
              "1              2               7516                 9543  TRANSFER     564.64   \n",
              "2              3               2445                 9356  TRANSFER     598.94   \n",
              "3              4               2576                 4617  TRANSFER     466.07   \n",
              "4              5               3524                 1773  TRANSFER     405.63   \n",
              "...          ...                ...                  ...       ...        ...   \n",
              "1323229  1323230               3733                 8051  TRANSFER     112.98   \n",
              "1323230  1323231               2536                 8732  TRANSFER     459.64   \n",
              "1323231  1323232               1466                 8586  TRANSFER     468.60   \n",
              "1323232  1323233               1451                 3849  TRANSFER     562.36   \n",
              "1323233  1323234                545                 2724  TRANSFER     415.57   \n",
              "\n",
              "         TIMESTAMP  IS_FRAUD  ALERT_ID  \n",
              "0                0     False        -1  \n",
              "1                0     False        -1  \n",
              "2                0     False        -1  \n",
              "3                0     False        -1  \n",
              "4                0     False        -1  \n",
              "...            ...       ...       ...  \n",
              "1323229        199     False        -1  \n",
              "1323230        199     False        -1  \n",
              "1323231        199     False        -1  \n",
              "1323232        199     False        -1  \n",
              "1323233        199     False        -1  \n",
              "\n",
              "[1323234 rows x 8 columns]"
            ],
            "text/html": [
              "\n",
              "  <div id=\"df-b4864fcd-8bc2-422d-9e7d-3c6ea0401be1\">\n",
              "    <div class=\"colab-df-container\">\n",
              "      <div>\n",
              "<style scoped>\n",
              "    .dataframe tbody tr th:only-of-type {\n",
              "        vertical-align: middle;\n",
              "    }\n",
              "\n",
              "    .dataframe tbody tr th {\n",
              "        vertical-align: top;\n",
              "    }\n",
              "\n",
              "    .dataframe thead th {\n",
              "        text-align: right;\n",
              "    }\n",
              "</style>\n",
              "<table border=\"1\" class=\"dataframe\">\n",
              "  <thead>\n",
              "    <tr style=\"text-align: right;\">\n",
              "      <th></th>\n",
              "      <th>TX_ID</th>\n",
              "      <th>SENDER_ACCOUNT_ID</th>\n",
              "      <th>RECEIVER_ACCOUNT_ID</th>\n",
              "      <th>TX_TYPE</th>\n",
              "      <th>TX_AMOUNT</th>\n",
              "      <th>TIMESTAMP</th>\n",
              "      <th>IS_FRAUD</th>\n",
              "      <th>ALERT_ID</th>\n",
              "    </tr>\n",
              "  </thead>\n",
              "  <tbody>\n",
              "    <tr>\n",
              "      <th>0</th>\n",
              "      <td>1</td>\n",
              "      <td>6456</td>\n",
              "      <td>9069</td>\n",
              "      <td>TRANSFER</td>\n",
              "      <td>465.05</td>\n",
              "      <td>0</td>\n",
              "      <td>False</td>\n",
              "      <td>-1</td>\n",
              "    </tr>\n",
              "    <tr>\n",
              "      <th>1</th>\n",
              "      <td>2</td>\n",
              "      <td>7516</td>\n",
              "      <td>9543</td>\n",
              "      <td>TRANSFER</td>\n",
              "      <td>564.64</td>\n",
              "      <td>0</td>\n",
              "      <td>False</td>\n",
              "      <td>-1</td>\n",
              "    </tr>\n",
              "    <tr>\n",
              "      <th>2</th>\n",
              "      <td>3</td>\n",
              "      <td>2445</td>\n",
              "      <td>9356</td>\n",
              "      <td>TRANSFER</td>\n",
              "      <td>598.94</td>\n",
              "      <td>0</td>\n",
              "      <td>False</td>\n",
              "      <td>-1</td>\n",
              "    </tr>\n",
              "    <tr>\n",
              "      <th>3</th>\n",
              "      <td>4</td>\n",
              "      <td>2576</td>\n",
              "      <td>4617</td>\n",
              "      <td>TRANSFER</td>\n",
              "      <td>466.07</td>\n",
              "      <td>0</td>\n",
              "      <td>False</td>\n",
              "      <td>-1</td>\n",
              "    </tr>\n",
              "    <tr>\n",
              "      <th>4</th>\n",
              "      <td>5</td>\n",
              "      <td>3524</td>\n",
              "      <td>1773</td>\n",
              "      <td>TRANSFER</td>\n",
              "      <td>405.63</td>\n",
              "      <td>0</td>\n",
              "      <td>False</td>\n",
              "      <td>-1</td>\n",
              "    </tr>\n",
              "    <tr>\n",
              "      <th>...</th>\n",
              "      <td>...</td>\n",
              "      <td>...</td>\n",
              "      <td>...</td>\n",
              "      <td>...</td>\n",
              "      <td>...</td>\n",
              "      <td>...</td>\n",
              "      <td>...</td>\n",
              "      <td>...</td>\n",
              "    </tr>\n",
              "    <tr>\n",
              "      <th>1323229</th>\n",
              "      <td>1323230</td>\n",
              "      <td>3733</td>\n",
              "      <td>8051</td>\n",
              "      <td>TRANSFER</td>\n",
              "      <td>112.98</td>\n",
              "      <td>199</td>\n",
              "      <td>False</td>\n",
              "      <td>-1</td>\n",
              "    </tr>\n",
              "    <tr>\n",
              "      <th>1323230</th>\n",
              "      <td>1323231</td>\n",
              "      <td>2536</td>\n",
              "      <td>8732</td>\n",
              "      <td>TRANSFER</td>\n",
              "      <td>459.64</td>\n",
              "      <td>199</td>\n",
              "      <td>False</td>\n",
              "      <td>-1</td>\n",
              "    </tr>\n",
              "    <tr>\n",
              "      <th>1323231</th>\n",
              "      <td>1323232</td>\n",
              "      <td>1466</td>\n",
              "      <td>8586</td>\n",
              "      <td>TRANSFER</td>\n",
              "      <td>468.60</td>\n",
              "      <td>199</td>\n",
              "      <td>False</td>\n",
              "      <td>-1</td>\n",
              "    </tr>\n",
              "    <tr>\n",
              "      <th>1323232</th>\n",
              "      <td>1323233</td>\n",
              "      <td>1451</td>\n",
              "      <td>3849</td>\n",
              "      <td>TRANSFER</td>\n",
              "      <td>562.36</td>\n",
              "      <td>199</td>\n",
              "      <td>False</td>\n",
              "      <td>-1</td>\n",
              "    </tr>\n",
              "    <tr>\n",
              "      <th>1323233</th>\n",
              "      <td>1323234</td>\n",
              "      <td>545</td>\n",
              "      <td>2724</td>\n",
              "      <td>TRANSFER</td>\n",
              "      <td>415.57</td>\n",
              "      <td>199</td>\n",
              "      <td>False</td>\n",
              "      <td>-1</td>\n",
              "    </tr>\n",
              "  </tbody>\n",
              "</table>\n",
              "<p>1323234 rows × 8 columns</p>\n",
              "</div>\n",
              "      <button class=\"colab-df-convert\" onclick=\"convertToInteractive('df-b4864fcd-8bc2-422d-9e7d-3c6ea0401be1')\"\n",
              "              title=\"Convert this dataframe to an interactive table.\"\n",
              "              style=\"display:none;\">\n",
              "        \n",
              "  <svg xmlns=\"http://www.w3.org/2000/svg\" height=\"24px\"viewBox=\"0 0 24 24\"\n",
              "       width=\"24px\">\n",
              "    <path d=\"M0 0h24v24H0V0z\" fill=\"none\"/>\n",
              "    <path d=\"M18.56 5.44l.94 2.06.94-2.06 2.06-.94-2.06-.94-.94-2.06-.94 2.06-2.06.94zm-11 1L8.5 8.5l.94-2.06 2.06-.94-2.06-.94L8.5 2.5l-.94 2.06-2.06.94zm10 10l.94 2.06.94-2.06 2.06-.94-2.06-.94-.94-2.06-.94 2.06-2.06.94z\"/><path d=\"M17.41 7.96l-1.37-1.37c-.4-.4-.92-.59-1.43-.59-.52 0-1.04.2-1.43.59L10.3 9.45l-7.72 7.72c-.78.78-.78 2.05 0 2.83L4 21.41c.39.39.9.59 1.41.59.51 0 1.02-.2 1.41-.59l7.78-7.78 2.81-2.81c.8-.78.8-2.07 0-2.86zM5.41 20L4 18.59l7.72-7.72 1.47 1.35L5.41 20z\"/>\n",
              "  </svg>\n",
              "      </button>\n",
              "      \n",
              "  <style>\n",
              "    .colab-df-container {\n",
              "      display:flex;\n",
              "      flex-wrap:wrap;\n",
              "      gap: 12px;\n",
              "    }\n",
              "\n",
              "    .colab-df-convert {\n",
              "      background-color: #E8F0FE;\n",
              "      border: none;\n",
              "      border-radius: 50%;\n",
              "      cursor: pointer;\n",
              "      display: none;\n",
              "      fill: #1967D2;\n",
              "      height: 32px;\n",
              "      padding: 0 0 0 0;\n",
              "      width: 32px;\n",
              "    }\n",
              "\n",
              "    .colab-df-convert:hover {\n",
              "      background-color: #E2EBFA;\n",
              "      box-shadow: 0px 1px 2px rgba(60, 64, 67, 0.3), 0px 1px 3px 1px rgba(60, 64, 67, 0.15);\n",
              "      fill: #174EA6;\n",
              "    }\n",
              "\n",
              "    [theme=dark] .colab-df-convert {\n",
              "      background-color: #3B4455;\n",
              "      fill: #D2E3FC;\n",
              "    }\n",
              "\n",
              "    [theme=dark] .colab-df-convert:hover {\n",
              "      background-color: #434B5C;\n",
              "      box-shadow: 0px 1px 3px 1px rgba(0, 0, 0, 0.15);\n",
              "      filter: drop-shadow(0px 1px 2px rgba(0, 0, 0, 0.3));\n",
              "      fill: #FFFFFF;\n",
              "    }\n",
              "  </style>\n",
              "\n",
              "      <script>\n",
              "        const buttonEl =\n",
              "          document.querySelector('#df-b4864fcd-8bc2-422d-9e7d-3c6ea0401be1 button.colab-df-convert');\n",
              "        buttonEl.style.display =\n",
              "          google.colab.kernel.accessAllowed ? 'block' : 'none';\n",
              "\n",
              "        async function convertToInteractive(key) {\n",
              "          const element = document.querySelector('#df-b4864fcd-8bc2-422d-9e7d-3c6ea0401be1');\n",
              "          const dataTable =\n",
              "            await google.colab.kernel.invokeFunction('convertToInteractive',\n",
              "                                                     [key], {});\n",
              "          if (!dataTable) return;\n",
              "\n",
              "          const docLinkHtml = 'Like what you see? Visit the ' +\n",
              "            '<a target=\"_blank\" href=https://colab.research.google.com/notebooks/data_table.ipynb>data table notebook</a>'\n",
              "            + ' to learn more about interactive tables.';\n",
              "          element.innerHTML = '';\n",
              "          dataTable['output_type'] = 'display_data';\n",
              "          await google.colab.output.renderOutput(dataTable, element);\n",
              "          const docLink = document.createElement('div');\n",
              "          docLink.innerHTML = docLinkHtml;\n",
              "          element.appendChild(docLink);\n",
              "        }\n",
              "      </script>\n",
              "    </div>\n",
              "  </div>\n",
              "  "
            ]
          },
          "metadata": {},
          "execution_count": 3
        }
      ]
    },
    {
      "cell_type": "markdown",
      "source": [
        "![image.png](data:image/png;base64,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)"
      ],
      "metadata": {
        "id": "0R9swk46Z6DE"
      }
    },
    {
      "cell_type": "markdown",
      "source": [
        "$ \\ $\n",
        "\n",
        "($\\checkmark$) Verificamos si las columnas tienen valores vacios o de tipo Nan y al parecer no hay."
      ],
      "metadata": {
        "id": "LCxAJmN8bWje"
      }
    },
    {
      "cell_type": "code",
      "source": [
        "nan_count = data_1.isnull().sum()\n",
        "empty_count = (data_1 == '').sum()\n",
        "\n",
        "for column in data_1.columns:\n",
        "    nan_values = nan_count[column]\n",
        "    empty_values = empty_count[column]\n",
        "    print(f\"Column '{column}': NaN values = {nan_values}, Empty values = {empty_values}\", \"\\n\")"
      ],
      "metadata": {
        "colab": {
          "base_uri": "https://localhost:8080/"
        },
        "id": "hhczpTgQa7fC",
        "outputId": "6cf967d9-9d5e-4446-f574-3fafe6a36b92"
      },
      "execution_count": null,
      "outputs": [
        {
          "output_type": "stream",
          "name": "stdout",
          "text": [
            "Column 'TX_ID': NaN values = 0, Empty values = 0 \n",
            "\n",
            "Column 'SENDER_ACCOUNT_ID': NaN values = 0, Empty values = 0 \n",
            "\n",
            "Column 'RECEIVER_ACCOUNT_ID': NaN values = 0, Empty values = 0 \n",
            "\n",
            "Column 'TX_TYPE': NaN values = 0, Empty values = 0 \n",
            "\n",
            "Column 'TX_AMOUNT': NaN values = 0, Empty values = 0 \n",
            "\n",
            "Column 'TIMESTAMP': NaN values = 0, Empty values = 0 \n",
            "\n",
            "Column 'IS_FRAUD': NaN values = 0, Empty values = 0 \n",
            "\n",
            "Column 'ALERT_ID': NaN values = 0, Empty values = 0 \n",
            "\n"
          ]
        }
      ]
    },
    {
      "cell_type": "markdown",
      "source": [
        "$ \\ $\n",
        "\n",
        "$(\\checkmark)$ Describimos el tipo de datos de las transferencias (\"transfers\")."
      ],
      "metadata": {
        "id": "8y9q-oCsvp-T"
      }
    },
    {
      "cell_type": "code",
      "source": [
        "data_1.dtypes"
      ],
      "metadata": {
        "colab": {
          "base_uri": "https://localhost:8080/"
        },
        "id": "UB9oDXDiwLtI",
        "outputId": "74a8a7c8-9705-4d1e-c070-cbb7b30dd4cc"
      },
      "execution_count": null,
      "outputs": [
        {
          "output_type": "execute_result",
          "data": {
            "text/plain": [
              "TX_ID                    int64\n",
              "SENDER_ACCOUNT_ID        int64\n",
              "RECEIVER_ACCOUNT_ID      int64\n",
              "TX_TYPE                 object\n",
              "TX_AMOUNT              float64\n",
              "TIMESTAMP                int64\n",
              "IS_FRAUD                  bool\n",
              "ALERT_ID                 int64\n",
              "dtype: object"
            ]
          },
          "metadata": {},
          "execution_count": 5
        }
      ]
    },
    {
      "cell_type": "markdown",
      "source": [
        "$ \\ $\n",
        "\n",
        "-----\n",
        "\n",
        "## ***Accounts $(cuentas)$***\n",
        "\n",
        "$ \\ $\n",
        "\n",
        "($\\checkmark$) Mostramos el conjunto de datos que describen las cuentas (\"accounts\")."
      ],
      "metadata": {
        "id": "UcdwL5tUkrlQ"
      }
    },
    {
      "cell_type": "code",
      "source": [
        "url = '/content/accounts.csv'\n",
        "data_2 = pd.read_csv(url, sep = ';')\n",
        "data_2"
      ],
      "metadata": {
        "id": "aatauJ3XkUOz",
        "outputId": "d66016ee-edf2-46c5-d14e-327f317b87a1",
        "colab": {
          "base_uri": "https://localhost:8080/",
          "height": 423
        }
      },
      "execution_count": null,
      "outputs": [
        {
          "output_type": "execute_result",
          "data": {
            "text/plain": [
              "      ACCOUNT_ID CUSTOMER_ID  INIT_BALANCE COUNTRY ACCOUNT_TYPE  \\\n",
              "0              0         C_0        184.44      US            I   \n",
              "1              1         C_1        175.80      US            I   \n",
              "2              2         C_2        142.06      US            I   \n",
              "3              3         C_3        125.89      US            I   \n",
              "4              4         C_4        151.13      US            I   \n",
              "...          ...         ...           ...     ...          ...   \n",
              "9995        9995      C_9995        394.35      US            I   \n",
              "9996        9996      C_9996        344.98      US            I   \n",
              "9997        9997      C_9997        260.85      US            I   \n",
              "9998        9998      C_9998        323.79      US            I   \n",
              "9999        9999      C_9999        317.65      US            I   \n",
              "\n",
              "      TX_BEHAVIOR_ID  \n",
              "0                  1  \n",
              "1                  1  \n",
              "2                  1  \n",
              "3                  1  \n",
              "4                  1  \n",
              "...              ...  \n",
              "9995               5  \n",
              "9996               5  \n",
              "9997               5  \n",
              "9998               5  \n",
              "9999               5  \n",
              "\n",
              "[10000 rows x 6 columns]"
            ],
            "text/html": [
              "\n",
              "  <div id=\"df-4b0086f4-713e-4098-819c-d3d2830c02e2\">\n",
              "    <div class=\"colab-df-container\">\n",
              "      <div>\n",
              "<style scoped>\n",
              "    .dataframe tbody tr th:only-of-type {\n",
              "        vertical-align: middle;\n",
              "    }\n",
              "\n",
              "    .dataframe tbody tr th {\n",
              "        vertical-align: top;\n",
              "    }\n",
              "\n",
              "    .dataframe thead th {\n",
              "        text-align: right;\n",
              "    }\n",
              "</style>\n",
              "<table border=\"1\" class=\"dataframe\">\n",
              "  <thead>\n",
              "    <tr style=\"text-align: right;\">\n",
              "      <th></th>\n",
              "      <th>ACCOUNT_ID</th>\n",
              "      <th>CUSTOMER_ID</th>\n",
              "      <th>INIT_BALANCE</th>\n",
              "      <th>COUNTRY</th>\n",
              "      <th>ACCOUNT_TYPE</th>\n",
              "      <th>TX_BEHAVIOR_ID</th>\n",
              "    </tr>\n",
              "  </thead>\n",
              "  <tbody>\n",
              "    <tr>\n",
              "      <th>0</th>\n",
              "      <td>0</td>\n",
              "      <td>C_0</td>\n",
              "      <td>184.44</td>\n",
              "      <td>US</td>\n",
              "      <td>I</td>\n",
              "      <td>1</td>\n",
              "    </tr>\n",
              "    <tr>\n",
              "      <th>1</th>\n",
              "      <td>1</td>\n",
              "      <td>C_1</td>\n",
              "      <td>175.80</td>\n",
              "      <td>US</td>\n",
              "      <td>I</td>\n",
              "      <td>1</td>\n",
              "    </tr>\n",
              "    <tr>\n",
              "      <th>2</th>\n",
              "      <td>2</td>\n",
              "      <td>C_2</td>\n",
              "      <td>142.06</td>\n",
              "      <td>US</td>\n",
              "      <td>I</td>\n",
              "      <td>1</td>\n",
              "    </tr>\n",
              "    <tr>\n",
              "      <th>3</th>\n",
              "      <td>3</td>\n",
              "      <td>C_3</td>\n",
              "      <td>125.89</td>\n",
              "      <td>US</td>\n",
              "      <td>I</td>\n",
              "      <td>1</td>\n",
              "    </tr>\n",
              "    <tr>\n",
              "      <th>4</th>\n",
              "      <td>4</td>\n",
              "      <td>C_4</td>\n",
              "      <td>151.13</td>\n",
              "      <td>US</td>\n",
              "      <td>I</td>\n",
              "      <td>1</td>\n",
              "    </tr>\n",
              "    <tr>\n",
              "      <th>...</th>\n",
              "      <td>...</td>\n",
              "      <td>...</td>\n",
              "      <td>...</td>\n",
              "      <td>...</td>\n",
              "      <td>...</td>\n",
              "      <td>...</td>\n",
              "    </tr>\n",
              "    <tr>\n",
              "      <th>9995</th>\n",
              "      <td>9995</td>\n",
              "      <td>C_9995</td>\n",
              "      <td>394.35</td>\n",
              "      <td>US</td>\n",
              "      <td>I</td>\n",
              "      <td>5</td>\n",
              "    </tr>\n",
              "    <tr>\n",
              "      <th>9996</th>\n",
              "      <td>9996</td>\n",
              "      <td>C_9996</td>\n",
              "      <td>344.98</td>\n",
              "      <td>US</td>\n",
              "      <td>I</td>\n",
              "      <td>5</td>\n",
              "    </tr>\n",
              "    <tr>\n",
              "      <th>9997</th>\n",
              "      <td>9997</td>\n",
              "      <td>C_9997</td>\n",
              "      <td>260.85</td>\n",
              "      <td>US</td>\n",
              "      <td>I</td>\n",
              "      <td>5</td>\n",
              "    </tr>\n",
              "    <tr>\n",
              "      <th>9998</th>\n",
              "      <td>9998</td>\n",
              "      <td>C_9998</td>\n",
              "      <td>323.79</td>\n",
              "      <td>US</td>\n",
              "      <td>I</td>\n",
              "      <td>5</td>\n",
              "    </tr>\n",
              "    <tr>\n",
              "      <th>9999</th>\n",
              "      <td>9999</td>\n",
              "      <td>C_9999</td>\n",
              "      <td>317.65</td>\n",
              "      <td>US</td>\n",
              "      <td>I</td>\n",
              "      <td>5</td>\n",
              "    </tr>\n",
              "  </tbody>\n",
              "</table>\n",
              "<p>10000 rows × 6 columns</p>\n",
              "</div>\n",
              "      <button class=\"colab-df-convert\" onclick=\"convertToInteractive('df-4b0086f4-713e-4098-819c-d3d2830c02e2')\"\n",
              "              title=\"Convert this dataframe to an interactive table.\"\n",
              "              style=\"display:none;\">\n",
              "        \n",
              "  <svg xmlns=\"http://www.w3.org/2000/svg\" height=\"24px\"viewBox=\"0 0 24 24\"\n",
              "       width=\"24px\">\n",
              "    <path d=\"M0 0h24v24H0V0z\" fill=\"none\"/>\n",
              "    <path d=\"M18.56 5.44l.94 2.06.94-2.06 2.06-.94-2.06-.94-.94-2.06-.94 2.06-2.06.94zm-11 1L8.5 8.5l.94-2.06 2.06-.94-2.06-.94L8.5 2.5l-.94 2.06-2.06.94zm10 10l.94 2.06.94-2.06 2.06-.94-2.06-.94-.94-2.06-.94 2.06-2.06.94z\"/><path d=\"M17.41 7.96l-1.37-1.37c-.4-.4-.92-.59-1.43-.59-.52 0-1.04.2-1.43.59L10.3 9.45l-7.72 7.72c-.78.78-.78 2.05 0 2.83L4 21.41c.39.39.9.59 1.41.59.51 0 1.02-.2 1.41-.59l7.78-7.78 2.81-2.81c.8-.78.8-2.07 0-2.86zM5.41 20L4 18.59l7.72-7.72 1.47 1.35L5.41 20z\"/>\n",
              "  </svg>\n",
              "      </button>\n",
              "      \n",
              "  <style>\n",
              "    .colab-df-container {\n",
              "      display:flex;\n",
              "      flex-wrap:wrap;\n",
              "      gap: 12px;\n",
              "    }\n",
              "\n",
              "    .colab-df-convert {\n",
              "      background-color: #E8F0FE;\n",
              "      border: none;\n",
              "      border-radius: 50%;\n",
              "      cursor: pointer;\n",
              "      display: none;\n",
              "      fill: #1967D2;\n",
              "      height: 32px;\n",
              "      padding: 0 0 0 0;\n",
              "      width: 32px;\n",
              "    }\n",
              "\n",
              "    .colab-df-convert:hover {\n",
              "      background-color: #E2EBFA;\n",
              "      box-shadow: 0px 1px 2px rgba(60, 64, 67, 0.3), 0px 1px 3px 1px rgba(60, 64, 67, 0.15);\n",
              "      fill: #174EA6;\n",
              "    }\n",
              "\n",
              "    [theme=dark] .colab-df-convert {\n",
              "      background-color: #3B4455;\n",
              "      fill: #D2E3FC;\n",
              "    }\n",
              "\n",
              "    [theme=dark] .colab-df-convert:hover {\n",
              "      background-color: #434B5C;\n",
              "      box-shadow: 0px 1px 3px 1px rgba(0, 0, 0, 0.15);\n",
              "      filter: drop-shadow(0px 1px 2px rgba(0, 0, 0, 0.3));\n",
              "      fill: #FFFFFF;\n",
              "    }\n",
              "  </style>\n",
              "\n",
              "      <script>\n",
              "        const buttonEl =\n",
              "          document.querySelector('#df-4b0086f4-713e-4098-819c-d3d2830c02e2 button.colab-df-convert');\n",
              "        buttonEl.style.display =\n",
              "          google.colab.kernel.accessAllowed ? 'block' : 'none';\n",
              "\n",
              "        async function convertToInteractive(key) {\n",
              "          const element = document.querySelector('#df-4b0086f4-713e-4098-819c-d3d2830c02e2');\n",
              "          const dataTable =\n",
              "            await google.colab.kernel.invokeFunction('convertToInteractive',\n",
              "                                                     [key], {});\n",
              "          if (!dataTable) return;\n",
              "\n",
              "          const docLinkHtml = 'Like what you see? Visit the ' +\n",
              "            '<a target=\"_blank\" href=https://colab.research.google.com/notebooks/data_table.ipynb>data table notebook</a>'\n",
              "            + ' to learn more about interactive tables.';\n",
              "          element.innerHTML = '';\n",
              "          dataTable['output_type'] = 'display_data';\n",
              "          await google.colab.output.renderOutput(dataTable, element);\n",
              "          const docLink = document.createElement('div');\n",
              "          docLink.innerHTML = docLinkHtml;\n",
              "          element.appendChild(docLink);\n",
              "        }\n",
              "      </script>\n",
              "    </div>\n",
              "  </div>\n",
              "  "
            ]
          },
          "metadata": {},
          "execution_count": 6
        }
      ]
    },
    {
      "cell_type": "markdown",
      "source": [
        "![image.png](data:image/png;base64,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)"
      ],
      "metadata": {
        "id": "r-_FlNPsA_wK"
      }
    },
    {
      "cell_type": "markdown",
      "source": [
        "$ \\ $\n",
        "\n",
        "($\\checkmark$) Verificamos si las columnas tienen valores vacios o de tipo Nan y al parecer no hay."
      ],
      "metadata": {
        "id": "HTamTY87ayiL"
      }
    },
    {
      "cell_type": "code",
      "source": [
        "nan_count = data_2.isnull().sum()\n",
        "empty_count = (data_2 == '').sum()\n",
        "\n",
        "for column in data_2.columns:\n",
        "    nan_values = nan_count[column]\n",
        "    empty_values = empty_count[column]\n",
        "    print(f\"Column '{column}': NaN values = {nan_values}, Empty values = {empty_values}\", \"\\n\")"
      ],
      "metadata": {
        "colab": {
          "base_uri": "https://localhost:8080/"
        },
        "id": "swBUZHHMbFvs",
        "outputId": "67db4a65-125e-420a-94b1-3153639e43eb"
      },
      "execution_count": null,
      "outputs": [
        {
          "output_type": "stream",
          "name": "stdout",
          "text": [
            "Column 'ACCOUNT_ID': NaN values = 0, Empty values = 0 \n",
            "\n",
            "Column 'CUSTOMER_ID': NaN values = 0, Empty values = 0 \n",
            "\n",
            "Column 'INIT_BALANCE': NaN values = 0, Empty values = 0 \n",
            "\n",
            "Column 'COUNTRY': NaN values = 0, Empty values = 0 \n",
            "\n",
            "Column 'ACCOUNT_TYPE': NaN values = 0, Empty values = 0 \n",
            "\n",
            "Column 'TX_BEHAVIOR_ID': NaN values = 0, Empty values = 0 \n",
            "\n"
          ]
        }
      ]
    },
    {
      "cell_type": "markdown",
      "source": [
        "$ \\ $\n",
        "\n",
        "$(\\checkmark)$ Describimos el tipo de datos de las cuentas (\"accounts\")."
      ],
      "metadata": {
        "id": "_OLymBS6wgb8"
      }
    },
    {
      "cell_type": "code",
      "source": [
        "data_2.dtypes"
      ],
      "metadata": {
        "colab": {
          "base_uri": "https://localhost:8080/"
        },
        "id": "Na9HmEaCwcfL",
        "outputId": "62f88066-a42a-416c-dbf7-d3972adaefeb"
      },
      "execution_count": null,
      "outputs": [
        {
          "output_type": "execute_result",
          "data": {
            "text/plain": [
              "ACCOUNT_ID          int64\n",
              "CUSTOMER_ID        object\n",
              "INIT_BALANCE      float64\n",
              "COUNTRY            object\n",
              "ACCOUNT_TYPE       object\n",
              "TX_BEHAVIOR_ID      int64\n",
              "dtype: object"
            ]
          },
          "metadata": {},
          "execution_count": 8
        }
      ]
    },
    {
      "cell_type": "markdown",
      "source": [
        "$ \\ $\n",
        "\n",
        "-----\n",
        "\n",
        "## ***Alerts $(alertas)$***\n",
        "\n",
        "$ \\ $\n",
        "\n",
        "Mostramos el conjunto de datos que describen las transacciones (\"alerts\")."
      ],
      "metadata": {
        "id": "aqfmi86maAnX"
      }
    },
    {
      "cell_type": "code",
      "source": [
        "url = '/content/alerts.csv'\n",
        "data_3 = pd.read_csv(url, sep = ',')\n",
        "data_3"
      ],
      "metadata": {
        "colab": {
          "base_uri": "https://localhost:8080/",
          "height": 423
        },
        "id": "DVSc_g1VaR-P",
        "outputId": "fd77bf31-2873-403e-968c-8d98088a711c"
      },
      "execution_count": null,
      "outputs": [
        {
          "output_type": "execute_result",
          "data": {
            "text/plain": [
              "      ALERT_ID ALERT_TYPE  IS_FRAUD    TX_ID  SENDER_ACCOUNT_ID  \\\n",
              "0          193     fan_in      True       82               6976   \n",
              "1          377      cycle      True      949               5776   \n",
              "2          189     fan_in      True     6280               9999   \n",
              "3          377      cycle      True     7999               1089   \n",
              "4          130     fan_in      True    12975               7025   \n",
              "...        ...        ...       ...      ...                ...   \n",
              "1714       272      cycle      True  1316271               2465   \n",
              "1715        44     fan_in      True  1316636               1453   \n",
              "1716       222      cycle      True  1317852               9446   \n",
              "1717        74     fan_in      True  1322020               6969   \n",
              "1718       294      cycle      True  1322711               8908   \n",
              "\n",
              "      RECEIVER_ACCOUNT_ID   TX_TYPE  TX_AMOUNT  TIMESTAMP  \n",
              "0                    9739  TRANSFER       4.85          0  \n",
              "1                    2570  TRANSFER      10.27          0  \n",
              "2                    9530  TRANSFER       2.74          1  \n",
              "3                    7352  TRANSFER      10.27          1  \n",
              "4                    9708  TRANSFER       3.53          2  \n",
              "...                   ...       ...        ...        ...  \n",
              "1714                  707  TRANSFER      16.31        198  \n",
              "1715                 8709  TRANSFER       2.81        199  \n",
              "1716                  790  TRANSFER      11.64        199  \n",
              "1717                 9529  TRANSFER       3.86        199  \n",
              "1718                 3629  TRANSFER      10.98        199  \n",
              "\n",
              "[1719 rows x 9 columns]"
            ],
            "text/html": [
              "\n",
              "  <div id=\"df-7c0589c1-6dbc-4d65-aa7b-0053edd97f95\">\n",
              "    <div class=\"colab-df-container\">\n",
              "      <div>\n",
              "<style scoped>\n",
              "    .dataframe tbody tr th:only-of-type {\n",
              "        vertical-align: middle;\n",
              "    }\n",
              "\n",
              "    .dataframe tbody tr th {\n",
              "        vertical-align: top;\n",
              "    }\n",
              "\n",
              "    .dataframe thead th {\n",
              "        text-align: right;\n",
              "    }\n",
              "</style>\n",
              "<table border=\"1\" class=\"dataframe\">\n",
              "  <thead>\n",
              "    <tr style=\"text-align: right;\">\n",
              "      <th></th>\n",
              "      <th>ALERT_ID</th>\n",
              "      <th>ALERT_TYPE</th>\n",
              "      <th>IS_FRAUD</th>\n",
              "      <th>TX_ID</th>\n",
              "      <th>SENDER_ACCOUNT_ID</th>\n",
              "      <th>RECEIVER_ACCOUNT_ID</th>\n",
              "      <th>TX_TYPE</th>\n",
              "      <th>TX_AMOUNT</th>\n",
              "      <th>TIMESTAMP</th>\n",
              "    </tr>\n",
              "  </thead>\n",
              "  <tbody>\n",
              "    <tr>\n",
              "      <th>0</th>\n",
              "      <td>193</td>\n",
              "      <td>fan_in</td>\n",
              "      <td>True</td>\n",
              "      <td>82</td>\n",
              "      <td>6976</td>\n",
              "      <td>9739</td>\n",
              "      <td>TRANSFER</td>\n",
              "      <td>4.85</td>\n",
              "      <td>0</td>\n",
              "    </tr>\n",
              "    <tr>\n",
              "      <th>1</th>\n",
              "      <td>377</td>\n",
              "      <td>cycle</td>\n",
              "      <td>True</td>\n",
              "      <td>949</td>\n",
              "      <td>5776</td>\n",
              "      <td>2570</td>\n",
              "      <td>TRANSFER</td>\n",
              "      <td>10.27</td>\n",
              "      <td>0</td>\n",
              "    </tr>\n",
              "    <tr>\n",
              "      <th>2</th>\n",
              "      <td>189</td>\n",
              "      <td>fan_in</td>\n",
              "      <td>True</td>\n",
              "      <td>6280</td>\n",
              "      <td>9999</td>\n",
              "      <td>9530</td>\n",
              "      <td>TRANSFER</td>\n",
              "      <td>2.74</td>\n",
              "      <td>1</td>\n",
              "    </tr>\n",
              "    <tr>\n",
              "      <th>3</th>\n",
              "      <td>377</td>\n",
              "      <td>cycle</td>\n",
              "      <td>True</td>\n",
              "      <td>7999</td>\n",
              "      <td>1089</td>\n",
              "      <td>7352</td>\n",
              "      <td>TRANSFER</td>\n",
              "      <td>10.27</td>\n",
              "      <td>1</td>\n",
              "    </tr>\n",
              "    <tr>\n",
              "      <th>4</th>\n",
              "      <td>130</td>\n",
              "      <td>fan_in</td>\n",
              "      <td>True</td>\n",
              "      <td>12975</td>\n",
              "      <td>7025</td>\n",
              "      <td>9708</td>\n",
              "      <td>TRANSFER</td>\n",
              "      <td>3.53</td>\n",
              "      <td>2</td>\n",
              "    </tr>\n",
              "    <tr>\n",
              "      <th>...</th>\n",
              "      <td>...</td>\n",
              "      <td>...</td>\n",
              "      <td>...</td>\n",
              "      <td>...</td>\n",
              "      <td>...</td>\n",
              "      <td>...</td>\n",
              "      <td>...</td>\n",
              "      <td>...</td>\n",
              "      <td>...</td>\n",
              "    </tr>\n",
              "    <tr>\n",
              "      <th>1714</th>\n",
              "      <td>272</td>\n",
              "      <td>cycle</td>\n",
              "      <td>True</td>\n",
              "      <td>1316271</td>\n",
              "      <td>2465</td>\n",
              "      <td>707</td>\n",
              "      <td>TRANSFER</td>\n",
              "      <td>16.31</td>\n",
              "      <td>198</td>\n",
              "    </tr>\n",
              "    <tr>\n",
              "      <th>1715</th>\n",
              "      <td>44</td>\n",
              "      <td>fan_in</td>\n",
              "      <td>True</td>\n",
              "      <td>1316636</td>\n",
              "      <td>1453</td>\n",
              "      <td>8709</td>\n",
              "      <td>TRANSFER</td>\n",
              "      <td>2.81</td>\n",
              "      <td>199</td>\n",
              "    </tr>\n",
              "    <tr>\n",
              "      <th>1716</th>\n",
              "      <td>222</td>\n",
              "      <td>cycle</td>\n",
              "      <td>True</td>\n",
              "      <td>1317852</td>\n",
              "      <td>9446</td>\n",
              "      <td>790</td>\n",
              "      <td>TRANSFER</td>\n",
              "      <td>11.64</td>\n",
              "      <td>199</td>\n",
              "    </tr>\n",
              "    <tr>\n",
              "      <th>1717</th>\n",
              "      <td>74</td>\n",
              "      <td>fan_in</td>\n",
              "      <td>True</td>\n",
              "      <td>1322020</td>\n",
              "      <td>6969</td>\n",
              "      <td>9529</td>\n",
              "      <td>TRANSFER</td>\n",
              "      <td>3.86</td>\n",
              "      <td>199</td>\n",
              "    </tr>\n",
              "    <tr>\n",
              "      <th>1718</th>\n",
              "      <td>294</td>\n",
              "      <td>cycle</td>\n",
              "      <td>True</td>\n",
              "      <td>1322711</td>\n",
              "      <td>8908</td>\n",
              "      <td>3629</td>\n",
              "      <td>TRANSFER</td>\n",
              "      <td>10.98</td>\n",
              "      <td>199</td>\n",
              "    </tr>\n",
              "  </tbody>\n",
              "</table>\n",
              "<p>1719 rows × 9 columns</p>\n",
              "</div>\n",
              "      <button class=\"colab-df-convert\" onclick=\"convertToInteractive('df-7c0589c1-6dbc-4d65-aa7b-0053edd97f95')\"\n",
              "              title=\"Convert this dataframe to an interactive table.\"\n",
              "              style=\"display:none;\">\n",
              "        \n",
              "  <svg xmlns=\"http://www.w3.org/2000/svg\" height=\"24px\"viewBox=\"0 0 24 24\"\n",
              "       width=\"24px\">\n",
              "    <path d=\"M0 0h24v24H0V0z\" fill=\"none\"/>\n",
              "    <path d=\"M18.56 5.44l.94 2.06.94-2.06 2.06-.94-2.06-.94-.94-2.06-.94 2.06-2.06.94zm-11 1L8.5 8.5l.94-2.06 2.06-.94-2.06-.94L8.5 2.5l-.94 2.06-2.06.94zm10 10l.94 2.06.94-2.06 2.06-.94-2.06-.94-.94-2.06-.94 2.06-2.06.94z\"/><path d=\"M17.41 7.96l-1.37-1.37c-.4-.4-.92-.59-1.43-.59-.52 0-1.04.2-1.43.59L10.3 9.45l-7.72 7.72c-.78.78-.78 2.05 0 2.83L4 21.41c.39.39.9.59 1.41.59.51 0 1.02-.2 1.41-.59l7.78-7.78 2.81-2.81c.8-.78.8-2.07 0-2.86zM5.41 20L4 18.59l7.72-7.72 1.47 1.35L5.41 20z\"/>\n",
              "  </svg>\n",
              "      </button>\n",
              "      \n",
              "  <style>\n",
              "    .colab-df-container {\n",
              "      display:flex;\n",
              "      flex-wrap:wrap;\n",
              "      gap: 12px;\n",
              "    }\n",
              "\n",
              "    .colab-df-convert {\n",
              "      background-color: #E8F0FE;\n",
              "      border: none;\n",
              "      border-radius: 50%;\n",
              "      cursor: pointer;\n",
              "      display: none;\n",
              "      fill: #1967D2;\n",
              "      height: 32px;\n",
              "      padding: 0 0 0 0;\n",
              "      width: 32px;\n",
              "    }\n",
              "\n",
              "    .colab-df-convert:hover {\n",
              "      background-color: #E2EBFA;\n",
              "      box-shadow: 0px 1px 2px rgba(60, 64, 67, 0.3), 0px 1px 3px 1px rgba(60, 64, 67, 0.15);\n",
              "      fill: #174EA6;\n",
              "    }\n",
              "\n",
              "    [theme=dark] .colab-df-convert {\n",
              "      background-color: #3B4455;\n",
              "      fill: #D2E3FC;\n",
              "    }\n",
              "\n",
              "    [theme=dark] .colab-df-convert:hover {\n",
              "      background-color: #434B5C;\n",
              "      box-shadow: 0px 1px 3px 1px rgba(0, 0, 0, 0.15);\n",
              "      filter: drop-shadow(0px 1px 2px rgba(0, 0, 0, 0.3));\n",
              "      fill: #FFFFFF;\n",
              "    }\n",
              "  </style>\n",
              "\n",
              "      <script>\n",
              "        const buttonEl =\n",
              "          document.querySelector('#df-7c0589c1-6dbc-4d65-aa7b-0053edd97f95 button.colab-df-convert');\n",
              "        buttonEl.style.display =\n",
              "          google.colab.kernel.accessAllowed ? 'block' : 'none';\n",
              "\n",
              "        async function convertToInteractive(key) {\n",
              "          const element = document.querySelector('#df-7c0589c1-6dbc-4d65-aa7b-0053edd97f95');\n",
              "          const dataTable =\n",
              "            await google.colab.kernel.invokeFunction('convertToInteractive',\n",
              "                                                     [key], {});\n",
              "          if (!dataTable) return;\n",
              "\n",
              "          const docLinkHtml = 'Like what you see? Visit the ' +\n",
              "            '<a target=\"_blank\" href=https://colab.research.google.com/notebooks/data_table.ipynb>data table notebook</a>'\n",
              "            + ' to learn more about interactive tables.';\n",
              "          element.innerHTML = '';\n",
              "          dataTable['output_type'] = 'display_data';\n",
              "          await google.colab.output.renderOutput(dataTable, element);\n",
              "          const docLink = document.createElement('div');\n",
              "          docLink.innerHTML = docLinkHtml;\n",
              "          element.appendChild(docLink);\n",
              "        }\n",
              "      </script>\n",
              "    </div>\n",
              "  </div>\n",
              "  "
            ]
          },
          "metadata": {},
          "execution_count": 9
        }
      ]
    },
    {
      "cell_type": "markdown",
      "source": [
        "![image.png](data:image/png;base64,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)"
      ],
      "metadata": {
        "id": "NtDDflJ9aYD-"
      }
    },
    {
      "cell_type": "markdown",
      "source": [
        "$ \\ $\n",
        "\n",
        "($\\checkmark$) Verificamos si las columnas tienen valores vacios o de tipo Nan y al parecer no hay."
      ],
      "metadata": {
        "id": "d2-Dln8mbdQ0"
      }
    },
    {
      "cell_type": "code",
      "source": [
        "nan_count = data_3.isnull().sum()\n",
        "empty_count = (data_3 == '').sum()\n",
        "\n",
        "for column in data_3.columns:\n",
        "    nan_values = nan_count[column]\n",
        "    empty_values = empty_count[column]\n",
        "    print(f\"Column '{column}': NaN values = {nan_values}, Empty values = {empty_values}\", \"\\n\")"
      ],
      "metadata": {
        "colab": {
          "base_uri": "https://localhost:8080/"
        },
        "id": "Sj1ZCNnEbfp6",
        "outputId": "69facdb7-6a31-4f45-8a1c-921f8fc5f8d8"
      },
      "execution_count": null,
      "outputs": [
        {
          "output_type": "stream",
          "name": "stdout",
          "text": [
            "Column 'ALERT_ID': NaN values = 0, Empty values = 0 \n",
            "\n",
            "Column 'ALERT_TYPE': NaN values = 0, Empty values = 0 \n",
            "\n",
            "Column 'IS_FRAUD': NaN values = 0, Empty values = 0 \n",
            "\n",
            "Column 'TX_ID': NaN values = 0, Empty values = 0 \n",
            "\n",
            "Column 'SENDER_ACCOUNT_ID': NaN values = 0, Empty values = 0 \n",
            "\n",
            "Column 'RECEIVER_ACCOUNT_ID': NaN values = 0, Empty values = 0 \n",
            "\n",
            "Column 'TX_TYPE': NaN values = 0, Empty values = 0 \n",
            "\n",
            "Column 'TX_AMOUNT': NaN values = 0, Empty values = 0 \n",
            "\n",
            "Column 'TIMESTAMP': NaN values = 0, Empty values = 0 \n",
            "\n"
          ]
        }
      ]
    },
    {
      "cell_type": "markdown",
      "source": [
        "$ \\ $\n",
        "\n",
        "$(\\checkmark)$ Describimos el tipo de datos de las transferencias (\"transfers\")."
      ],
      "metadata": {
        "id": "TIZuQ9j_wPbX"
      }
    },
    {
      "cell_type": "code",
      "source": [
        "data_3.dtypes"
      ],
      "metadata": {
        "colab": {
          "base_uri": "https://localhost:8080/"
        },
        "id": "EZhjqChBwWnX",
        "outputId": "24a310ce-3a71-4e12-f809-6a253a44c66c"
      },
      "execution_count": null,
      "outputs": [
        {
          "output_type": "execute_result",
          "data": {
            "text/plain": [
              "ALERT_ID                 int64\n",
              "ALERT_TYPE              object\n",
              "IS_FRAUD                  bool\n",
              "TX_ID                    int64\n",
              "SENDER_ACCOUNT_ID        int64\n",
              "RECEIVER_ACCOUNT_ID      int64\n",
              "TX_TYPE                 object\n",
              "TX_AMOUNT              float64\n",
              "TIMESTAMP                int64\n",
              "dtype: object"
            ]
          },
          "metadata": {},
          "execution_count": 11
        }
      ]
    },
    {
      "cell_type": "markdown",
      "source": [
        "$ \\ $\n",
        "\n",
        "-----\n",
        "\n",
        "# ***Preguntas (prueba tecnica).***\n",
        "\n",
        "$ \\ $\n",
        "\n",
        "($\\checkmark$) ¿Cuántas cuentas bancarias se presentan?\n",
        "\n",
        "Aparentemente, tenemos 10.000 cuentas bancarias."
      ],
      "metadata": {
        "id": "FBk1LDJgWFHH"
      }
    },
    {
      "cell_type": "code",
      "source": [
        "len(set(data_2[\"ACCOUNT_ID\"].values))"
      ],
      "metadata": {
        "colab": {
          "base_uri": "https://localhost:8080/"
        },
        "id": "Zb1uy1sXWuKj",
        "outputId": "4afe41f6-de33-450f-df69-2b2af47c3ad2"
      },
      "execution_count": null,
      "outputs": [
        {
          "output_type": "execute_result",
          "data": {
            "text/plain": [
              "10000"
            ]
          },
          "metadata": {},
          "execution_count": 12
        }
      ]
    },
    {
      "cell_type": "markdown",
      "source": [
        "$ \\ $\n",
        "\n",
        "($\\checkmark$) ¿Cuántos clientes se presentan?\n",
        "\n",
        "Aparentemente, tenemos 10.000 clientes."
      ],
      "metadata": {
        "id": "3r9o5ZoHXldT"
      }
    },
    {
      "cell_type": "code",
      "source": [
        "len(set(data_2[\"CUSTOMER_ID\"].values))"
      ],
      "metadata": {
        "colab": {
          "base_uri": "https://localhost:8080/"
        },
        "id": "faHCsdQbXpTB",
        "outputId": "ce7748e0-500d-40ee-b97a-27593d760187"
      },
      "execution_count": null,
      "outputs": [
        {
          "output_type": "execute_result",
          "data": {
            "text/plain": [
              "10000"
            ]
          },
          "metadata": {},
          "execution_count": 13
        }
      ]
    },
    {
      "cell_type": "markdown",
      "source": [
        "$ \\ $\n",
        "\n",
        "($\\checkmark$)  ¿Hay clientes con más de una cuenta bancaria?\n",
        "\n",
        "Esto no es posible, ya que tenemos 10.000 clientes, 10.000 cuentas bancarias y no hay valores vacios o de tipo Nan. Y por el principio del palomar, no es posible que hayan clientes con mas de una cuenta.\n"
      ],
      "metadata": {
        "id": "GNtjbTKMX55D"
      }
    },
    {
      "cell_type": "markdown",
      "source": [
        "$ \\ $\n",
        "\n",
        "($\\checkmark$)  ¿Cómo es la distribución de los montos iniciales en las cuentas?\n",
        "\n",
        "A continuacion mostramos como es la distribucion de las cuentas."
      ],
      "metadata": {
        "id": "Z2TQMKkNY5Dx"
      }
    },
    {
      "cell_type": "code",
      "source": [
        "# En esta parte mostramos los montos iniciales y cuantas veces se repiten.\n",
        "data_1[\"TX_AMOUNT\"].value_counts()"
      ],
      "metadata": {
        "colab": {
          "base_uri": "https://localhost:8080/"
        },
        "id": "Kvw5HNXpapCm",
        "outputId": "ac0b1374-3d21-4d07-b2da-58a815b6228b"
      },
      "execution_count": null,
      "outputs": [
        {
          "output_type": "execute_result",
          "data": {
            "text/plain": [
              "21474836.47    3053\n",
              "165.66         1780\n",
              "7.91           1625\n",
              "195.19         1540\n",
              "8.23           1499\n",
              "               ... \n",
              "156036.76         1\n",
              "76612.53          1\n",
              "135597.09         1\n",
              "271874.31         1\n",
              "18850232.00       1\n",
              "Name: TX_AMOUNT, Length: 43748, dtype: int64"
            ]
          },
          "metadata": {},
          "execution_count": 14
        }
      ]
    },
    {
      "cell_type": "code",
      "source": [
        "# Aqui mostramos las distribuciones estadisticas de los montos iniciales.\n",
        "data_1[\"TX_AMOUNT\"].describe()"
      ],
      "metadata": {
        "colab": {
          "base_uri": "https://localhost:8080/"
        },
        "id": "72BqhJQUdVxh",
        "outputId": "79f5cade-9f6a-487c-df6f-c7de2a942356"
      },
      "execution_count": null,
      "outputs": [
        {
          "output_type": "execute_result",
          "data": {
            "text/plain": [
              "count    1.323234e+06\n",
              "mean     1.159882e+05\n",
              "std      1.320091e+06\n",
              "min      0.000000e+00\n",
              "25%      2.393000e+01\n",
              "50%      1.567100e+02\n",
              "75%      4.400000e+02\n",
              "max      2.147484e+07\n",
              "Name: TX_AMOUNT, dtype: float64"
            ]
          },
          "metadata": {},
          "execution_count": 15
        }
      ]
    },
    {
      "cell_type": "markdown",
      "source": [
        "$ \\ $\n",
        "\n",
        "($\\checkmark$)  ¿Cuántos tipos de cuenta hay?\n",
        "\n",
        "Segun el analisis de la variables, tenemos que el numero de cuentas es 9999."
      ],
      "metadata": {
        "id": "1fP2LgWccS6u"
      }
    },
    {
      "cell_type": "code",
      "source": [
        "len(set(data_1[\"SENDER_ACCOUNT_ID\"]))"
      ],
      "metadata": {
        "colab": {
          "base_uri": "https://localhost:8080/"
        },
        "id": "sAy6YpIYcm6R",
        "outputId": "fc34edb3-59bb-4a72-ea70-c39eabfeacf5"
      },
      "execution_count": null,
      "outputs": [
        {
          "output_type": "execute_result",
          "data": {
            "text/plain": [
              "9999"
            ]
          },
          "metadata": {},
          "execution_count": 16
        }
      ]
    },
    {
      "cell_type": "markdown",
      "source": [
        "$ \\ $\n",
        "\n",
        "($\\checkmark$)  ¿Existe alguna relación entre el saldo inicial de la cuenta y la marcación de comportamiento de la cuenta?\n",
        "\n",
        "La siguiente tabla nos muestra que si, y la relacion es la siguiente:\n",
        "\n",
        "* Si el saldo inicial se encuentra en el intervalo $[100,200]$, entonces el clasificador de comportamiento solo toma los valores 1 y 4.\n",
        "\n",
        "* Si el saldo inicial se encuentra en el intervalo $[200,400]$, entonces el clasificador de comportamiento solo toma los valores 2 y 5.\n",
        "\n",
        "* Si el saldo inicial se encuentra en el intervalo $[400,600]$, entonces el clasificador de comportamiento solo toma el valor de 3."
      ],
      "metadata": {
        "id": "nG-hlBYQeFOZ"
      }
    },
    {
      "cell_type": "code",
      "source": [
        "plt.scatter(data_2['INIT_BALANCE'], data_2['TX_BEHAVIOR_ID'])\n",
        "plt.xlabel('INIT_BALANCE')\n",
        "plt.ylabel('TX_BEHAVIOR_ID')\n",
        "plt.title('Relationship between INIT_BALANCE and TX_BEHAVIOR_ID')\n",
        "plt.show()"
      ],
      "metadata": {
        "colab": {
          "base_uri": "https://localhost:8080/",
          "height": 472
        },
        "id": "ZN-ZQ8LKek1y",
        "outputId": "3e6d2df7-6fb5-4560-e571-454f170fd686"
      },
      "execution_count": null,
      "outputs": [
        {
          "output_type": "display_data",
          "data": {
            "text/plain": [
              "<Figure size 640x480 with 1 Axes>"
            ],
            "image/png": "[encoded data removed]"
          },
          "metadata": {}
        }
      ]
    },
    {
      "cell_type": "markdown",
      "source": [
        "$ \\ $\n",
        "\n",
        "($\\checkmark$)  Distribución de montos de las transacciones.\n",
        "\n",
        "La distribucion de los montos se hizo de la siguiente manera:"
      ],
      "metadata": {
        "id": "a-kQZFU_hA08"
      }
    },
    {
      "cell_type": "code",
      "source": [
        "# En este codigo mostramos cuantas veces cada monto de la transaccion fue repetido.\n",
        "data_1[\"TX_AMOUNT\"].value_counts()"
      ],
      "metadata": {
        "colab": {
          "base_uri": "https://localhost:8080/"
        },
        "id": "yp5RsIcghHva",
        "outputId": "43fec846-5ca3-4349-b423-020f77e05ce0"
      },
      "execution_count": null,
      "outputs": [
        {
          "output_type": "execute_result",
          "data": {
            "text/plain": [
              "21474836.47    3053\n",
              "165.66         1780\n",
              "7.91           1625\n",
              "195.19         1540\n",
              "8.23           1499\n",
              "               ... \n",
              "156036.76         1\n",
              "76612.53          1\n",
              "135597.09         1\n",
              "271874.31         1\n",
              "18850232.00       1\n",
              "Name: TX_AMOUNT, Length: 43748, dtype: int64"
            ]
          },
          "metadata": {},
          "execution_count": 18
        }
      ]
    },
    {
      "cell_type": "code",
      "source": [
        "# aqui mostramos la distribucion estadistica de los montos anteriores.\n",
        "data_1[\"TX_AMOUNT\"].describe()"
      ],
      "metadata": {
        "colab": {
          "base_uri": "https://localhost:8080/"
        },
        "id": "uL4xBexJhwyc",
        "outputId": "db752d4c-4f99-41e9-e23b-ac4b8c497b7c"
      },
      "execution_count": null,
      "outputs": [
        {
          "output_type": "execute_result",
          "data": {
            "text/plain": [
              "count    1.323234e+06\n",
              "mean     1.159882e+05\n",
              "std      1.320091e+06\n",
              "min      0.000000e+00\n",
              "25%      2.393000e+01\n",
              "50%      1.567100e+02\n",
              "75%      4.400000e+02\n",
              "max      2.147484e+07\n",
              "Name: TX_AMOUNT, dtype: float64"
            ]
          },
          "metadata": {},
          "execution_count": 19
        }
      ]
    },
    {
      "cell_type": "markdown",
      "source": [
        "$ \\ $\n",
        "\n",
        "($\\checkmark$)  ¿Qué porcentaje de las transacciones fueron marcadas como fraudulentas?\n",
        "\n",
        "Segun el siguiente codigo, tenemos que:\n",
        "\n",
        "* El $99,87\\%$  de las transacciones fueron marcadas como no fraudulentas.\n",
        "\n",
        "* El $0.13\\%$  de las transacciones fueron marcadas como  fraudulentas."
      ],
      "metadata": {
        "id": "nmCx_rUHifUX"
      }
    },
    {
      "cell_type": "code",
      "source": [
        "data_1[\"IS_FRAUD\"].value_counts(normalize=True)"
      ],
      "metadata": {
        "colab": {
          "base_uri": "https://localhost:8080/"
        },
        "id": "cSW_N6akirUY",
        "outputId": "68b08530-717b-491a-de03-77efa89fd5b9"
      },
      "execution_count": null,
      "outputs": [
        {
          "output_type": "execute_result",
          "data": {
            "text/plain": [
              "False    0.998701\n",
              "True     0.001299\n",
              "Name: IS_FRAUD, dtype: float64"
            ]
          },
          "metadata": {},
          "execution_count": 20
        }
      ]
    },
    {
      "cell_type": "code",
      "source": [
        "data_1[\"IS_FRAUD\"].value_counts()"
      ],
      "metadata": {
        "colab": {
          "base_uri": "https://localhost:8080/"
        },
        "id": "jbMYLRVwje1a",
        "outputId": "09680f74-7043-44f5-d439-66b034ce94e2"
      },
      "execution_count": null,
      "outputs": [
        {
          "output_type": "execute_result",
          "data": {
            "text/plain": [
              "False    1321515\n",
              "True        1719\n",
              "Name: IS_FRAUD, dtype: int64"
            ]
          },
          "metadata": {},
          "execution_count": 21
        }
      ]
    },
    {
      "cell_type": "markdown",
      "source": [
        "$ \\ $\n",
        "\n",
        "($\\checkmark$)  ¿Qué se puede decir sobre los montos de las transacciones que fueron marcadas como fraudulentas?\n",
        "\n",
        "Se pueden decir varias cosas respecto al codigo mostrado en la parte de abajo:\n",
        "\n",
        "* Solo hubo 1719 fraudes y 1321515 no fueron fraude.\n",
        "\n",
        "* El valor promedio de cada fraude fue de 9.76 dolares.\n",
        "\n",
        "* El valor maximo del fraude fue de 19.92 dolares y el valor minimo fue de 2.54 dolares.\n",
        "\n",
        "Se puede decir mas, pero creo que esto es suficiente."
      ],
      "metadata": {
        "id": "U-J2Id5qkYHq"
      }
    },
    {
      "cell_type": "code",
      "source": [
        "# En esta parte describimos las estadisticas basicas de los montos de las transacciones que no fueron fraudulentas\n",
        "mascara = data_1[\"IS_FRAUD\"] == True\n",
        "data_1[mascara][\"TX_AMOUNT\"].describe()"
      ],
      "metadata": {
        "colab": {
          "base_uri": "https://localhost:8080/"
        },
        "id": "j3o5KtKbkXVw",
        "outputId": "1a428e2e-db95-42f3-acda-814af0933506"
      },
      "execution_count": null,
      "outputs": [
        {
          "output_type": "execute_result",
          "data": {
            "text/plain": [
              "count    1719.000000\n",
              "mean        9.763310\n",
              "std         5.928078\n",
              "min         2.540000\n",
              "25%         3.780000\n",
              "50%        10.600000\n",
              "75%        15.300000\n",
              "max        19.920000\n",
              "Name: TX_AMOUNT, dtype: float64"
            ]
          },
          "metadata": {},
          "execution_count": 22
        }
      ]
    },
    {
      "cell_type": "code",
      "source": [
        "# En esta parte describimos las estadisticas basicas de los montos de las transacciones que  fueron fraudulentas\n",
        "mascara = data_1[\"IS_FRAUD\"] == False\n",
        "data_1[mascara][\"TX_AMOUNT\"].describe()"
      ],
      "metadata": {
        "colab": {
          "base_uri": "https://localhost:8080/"
        },
        "id": "K1_ToQlSmLHl",
        "outputId": "9becf77f-eb3b-4b78-801e-f959a4bc5966"
      },
      "execution_count": null,
      "outputs": [
        {
          "output_type": "execute_result",
          "data": {
            "text/plain": [
              "count    1.321515e+06\n",
              "mean     1.161390e+05\n",
              "std      1.320942e+06\n",
              "min      0.000000e+00\n",
              "25%      2.429000e+01\n",
              "50%      1.569700e+02\n",
              "75%      4.400500e+02\n",
              "max      2.147484e+07\n",
              "Name: TX_AMOUNT, dtype: float64"
            ]
          },
          "metadata": {},
          "execution_count": 23
        }
      ]
    },
    {
      "cell_type": "markdown",
      "source": [
        "$ \\ $\n",
        "\n",
        "($\\checkmark$)  ¿Qué porcentaje de operaciones fraudulentas corresponde a cada tipo (ALERT_TYPE)?\n",
        "\n",
        "Segun el siguiente codigo, tenemos que el resultado es:\n",
        "\n",
        "* cycle:  $54.45 \\%$\n",
        "\n",
        "* fan_in:  $45.55\\%$\n",
        "\n"
      ],
      "metadata": {
        "id": "HIu7LwcRouFU"
      }
    },
    {
      "cell_type": "code",
      "source": [
        "data_3[\"IS_FRAUD\"].value_counts()"
      ],
      "metadata": {
        "colab": {
          "base_uri": "https://localhost:8080/"
        },
        "id": "PoWwvJgvrr6l",
        "outputId": "ad84bb83-ac86-4af2-e602-23283958c4d1"
      },
      "execution_count": null,
      "outputs": [
        {
          "output_type": "execute_result",
          "data": {
            "text/plain": [
              "True    1719\n",
              "Name: IS_FRAUD, dtype: int64"
            ]
          },
          "metadata": {},
          "execution_count": 24
        }
      ]
    },
    {
      "cell_type": "code",
      "source": [
        "data_3[\"ALERT_TYPE\"].value_counts()"
      ],
      "metadata": {
        "colab": {
          "base_uri": "https://localhost:8080/"
        },
        "id": "w659GT7FqXQ-",
        "outputId": "b358089f-7b8e-42c5-d6eb-5a603dcb1172"
      },
      "execution_count": null,
      "outputs": [
        {
          "output_type": "execute_result",
          "data": {
            "text/plain": [
              "cycle     936\n",
              "fan_in    783\n",
              "Name: ALERT_TYPE, dtype: int64"
            ]
          },
          "metadata": {},
          "execution_count": 25
        }
      ]
    },
    {
      "cell_type": "code",
      "source": [
        "fraude = data_3[\"ALERT_TYPE\"].value_counts(normalize = True)\n",
        "fraude"
      ],
      "metadata": {
        "colab": {
          "base_uri": "https://localhost:8080/"
        },
        "id": "Sa6OdxxXpOjH",
        "outputId": "462443ea-6109-42c8-f3f0-283e3227d135"
      },
      "execution_count": null,
      "outputs": [
        {
          "output_type": "execute_result",
          "data": {
            "text/plain": [
              "cycle     0.544503\n",
              "fan_in    0.455497\n",
              "Name: ALERT_TYPE, dtype: float64"
            ]
          },
          "metadata": {},
          "execution_count": 26
        }
      ]
    },
    {
      "cell_type": "markdown",
      "source": [
        "$ \\ $\n",
        "\n",
        "($\\checkmark$)  Determina una hipótesis sobre el significado de cada uno de los ALERT_TYPE. Una forma de aproximarse a esta pregunta es analizando ejemplos de cada tipo de alerta.\n",
        "\n",
        "Aparentemente, el significado del tipo de alerta esta muy relacionado con la monto en la transaccion. Para ser mas especifico, podriamos decir que:\n",
        "\n",
        "* Si el monto en la transaccion se encuentra entre $2.5$ y $5$, entonces el tipo de alerta es ***fan_in***.\n",
        "\n",
        "* Si el monto en la transaccion se encuentra entre $10$ y $20$, entonces el tipo de alerta es ***cycle***."
      ],
      "metadata": {
        "id": "WTOJ2jt3q_oA"
      }
    },
    {
      "cell_type": "code",
      "source": [
        "data_3[[\"ALERT_TYPE\", \"TX_AMOUNT\"]]"
      ],
      "metadata": {
        "colab": {
          "base_uri": "https://localhost:8080/",
          "height": 423
        },
        "id": "39kZK4LdrRWw",
        "outputId": "a953bfe0-7336-477d-b91d-36a9cf83bf09"
      },
      "execution_count": null,
      "outputs": [
        {
          "output_type": "execute_result",
          "data": {
            "text/plain": [
              "     ALERT_TYPE  TX_AMOUNT\n",
              "0        fan_in       4.85\n",
              "1         cycle      10.27\n",
              "2        fan_in       2.74\n",
              "3         cycle      10.27\n",
              "4        fan_in       3.53\n",
              "...         ...        ...\n",
              "1714      cycle      16.31\n",
              "1715     fan_in       2.81\n",
              "1716      cycle      11.64\n",
              "1717     fan_in       3.86\n",
              "1718      cycle      10.98\n",
              "\n",
              "[1719 rows x 2 columns]"
            ],
            "text/html": [
              "\n",
              "  <div id=\"df-1557f591-e9e2-466e-804f-f3be0f6d551f\">\n",
              "    <div class=\"colab-df-container\">\n",
              "      <div>\n",
              "<style scoped>\n",
              "    .dataframe tbody tr th:only-of-type {\n",
              "        vertical-align: middle;\n",
              "    }\n",
              "\n",
              "    .dataframe tbody tr th {\n",
              "        vertical-align: top;\n",
              "    }\n",
              "\n",
              "    .dataframe thead th {\n",
              "        text-align: right;\n",
              "    }\n",
              "</style>\n",
              "<table border=\"1\" class=\"dataframe\">\n",
              "  <thead>\n",
              "    <tr style=\"text-align: right;\">\n",
              "      <th></th>\n",
              "      <th>ALERT_TYPE</th>\n",
              "      <th>TX_AMOUNT</th>\n",
              "    </tr>\n",
              "  </thead>\n",
              "  <tbody>\n",
              "    <tr>\n",
              "      <th>0</th>\n",
              "      <td>fan_in</td>\n",
              "      <td>4.85</td>\n",
              "    </tr>\n",
              "    <tr>\n",
              "      <th>1</th>\n",
              "      <td>cycle</td>\n",
              "      <td>10.27</td>\n",
              "    </tr>\n",
              "    <tr>\n",
              "      <th>2</th>\n",
              "      <td>fan_in</td>\n",
              "      <td>2.74</td>\n",
              "    </tr>\n",
              "    <tr>\n",
              "      <th>3</th>\n",
              "      <td>cycle</td>\n",
              "      <td>10.27</td>\n",
              "    </tr>\n",
              "    <tr>\n",
              "      <th>4</th>\n",
              "      <td>fan_in</td>\n",
              "      <td>3.53</td>\n",
              "    </tr>\n",
              "    <tr>\n",
              "      <th>...</th>\n",
              "      <td>...</td>\n",
              "      <td>...</td>\n",
              "    </tr>\n",
              "    <tr>\n",
              "      <th>1714</th>\n",
              "      <td>cycle</td>\n",
              "      <td>16.31</td>\n",
              "    </tr>\n",
              "    <tr>\n",
              "      <th>1715</th>\n",
              "      <td>fan_in</td>\n",
              "      <td>2.81</td>\n",
              "    </tr>\n",
              "    <tr>\n",
              "      <th>1716</th>\n",
              "      <td>cycle</td>\n",
              "      <td>11.64</td>\n",
              "    </tr>\n",
              "    <tr>\n",
              "      <th>1717</th>\n",
              "      <td>fan_in</td>\n",
              "      <td>3.86</td>\n",
              "    </tr>\n",
              "    <tr>\n",
              "      <th>1718</th>\n",
              "      <td>cycle</td>\n",
              "      <td>10.98</td>\n",
              "    </tr>\n",
              "  </tbody>\n",
              "</table>\n",
              "<p>1719 rows × 2 columns</p>\n",
              "</div>\n",
              "      <button class=\"colab-df-convert\" onclick=\"convertToInteractive('df-1557f591-e9e2-466e-804f-f3be0f6d551f')\"\n",
              "              title=\"Convert this dataframe to an interactive table.\"\n",
              "              style=\"display:none;\">\n",
              "        \n",
              "  <svg xmlns=\"http://www.w3.org/2000/svg\" height=\"24px\"viewBox=\"0 0 24 24\"\n",
              "       width=\"24px\">\n",
              "    <path d=\"M0 0h24v24H0V0z\" fill=\"none\"/>\n",
              "    <path d=\"M18.56 5.44l.94 2.06.94-2.06 2.06-.94-2.06-.94-.94-2.06-.94 2.06-2.06.94zm-11 1L8.5 8.5l.94-2.06 2.06-.94-2.06-.94L8.5 2.5l-.94 2.06-2.06.94zm10 10l.94 2.06.94-2.06 2.06-.94-2.06-.94-.94-2.06-.94 2.06-2.06.94z\"/><path d=\"M17.41 7.96l-1.37-1.37c-.4-.4-.92-.59-1.43-.59-.52 0-1.04.2-1.43.59L10.3 9.45l-7.72 7.72c-.78.78-.78 2.05 0 2.83L4 21.41c.39.39.9.59 1.41.59.51 0 1.02-.2 1.41-.59l7.78-7.78 2.81-2.81c.8-.78.8-2.07 0-2.86zM5.41 20L4 18.59l7.72-7.72 1.47 1.35L5.41 20z\"/>\n",
              "  </svg>\n",
              "      </button>\n",
              "      \n",
              "  <style>\n",
              "    .colab-df-container {\n",
              "      display:flex;\n",
              "      flex-wrap:wrap;\n",
              "      gap: 12px;\n",
              "    }\n",
              "\n",
              "    .colab-df-convert {\n",
              "      background-color: #E8F0FE;\n",
              "      border: none;\n",
              "      border-radius: 50%;\n",
              "      cursor: pointer;\n",
              "      display: none;\n",
              "      fill: #1967D2;\n",
              "      height: 32px;\n",
              "      padding: 0 0 0 0;\n",
              "      width: 32px;\n",
              "    }\n",
              "\n",
              "    .colab-df-convert:hover {\n",
              "      background-color: #E2EBFA;\n",
              "      box-shadow: 0px 1px 2px rgba(60, 64, 67, 0.3), 0px 1px 3px 1px rgba(60, 64, 67, 0.15);\n",
              "      fill: #174EA6;\n",
              "    }\n",
              "\n",
              "    [theme=dark] .colab-df-convert {\n",
              "      background-color: #3B4455;\n",
              "      fill: #D2E3FC;\n",
              "    }\n",
              "\n",
              "    [theme=dark] .colab-df-convert:hover {\n",
              "      background-color: #434B5C;\n",
              "      box-shadow: 0px 1px 3px 1px rgba(0, 0, 0, 0.15);\n",
              "      filter: drop-shadow(0px 1px 2px rgba(0, 0, 0, 0.3));\n",
              "      fill: #FFFFFF;\n",
              "    }\n",
              "  </style>\n",
              "\n",
              "      <script>\n",
              "        const buttonEl =\n",
              "          document.querySelector('#df-1557f591-e9e2-466e-804f-f3be0f6d551f button.colab-df-convert');\n",
              "        buttonEl.style.display =\n",
              "          google.colab.kernel.accessAllowed ? 'block' : 'none';\n",
              "\n",
              "        async function convertToInteractive(key) {\n",
              "          const element = document.querySelector('#df-1557f591-e9e2-466e-804f-f3be0f6d551f');\n",
              "          const dataTable =\n",
              "            await google.colab.kernel.invokeFunction('convertToInteractive',\n",
              "                                                     [key], {});\n",
              "          if (!dataTable) return;\n",
              "\n",
              "          const docLinkHtml = 'Like what you see? Visit the ' +\n",
              "            '<a target=\"_blank\" href=https://colab.research.google.com/notebooks/data_table.ipynb>data table notebook</a>'\n",
              "            + ' to learn more about interactive tables.';\n",
              "          element.innerHTML = '';\n",
              "          dataTable['output_type'] = 'display_data';\n",
              "          await google.colab.output.renderOutput(dataTable, element);\n",
              "          const docLink = document.createElement('div');\n",
              "          docLink.innerHTML = docLinkHtml;\n",
              "          element.appendChild(docLink);\n",
              "        }\n",
              "      </script>\n",
              "    </div>\n",
              "  </div>\n",
              "  "
            ]
          },
          "metadata": {},
          "execution_count": 27
        }
      ]
    },
    {
      "cell_type": "code",
      "source": [
        "plt.scatter(data_3[\"ALERT_TYPE\"], data_3[\"TX_AMOUNT\"]);"
      ],
      "metadata": {
        "colab": {
          "base_uri": "https://localhost:8080/",
          "height": 430
        },
        "id": "bysQwP4auD7j",
        "outputId": "54eba9f9-6a32-425e-ee26-60e73bc0884f"
      },
      "execution_count": null,
      "outputs": [
        {
          "output_type": "display_data",
          "data": {
            "text/plain": [
              "<Figure size 640x480 with 1 Axes>"
            ],
            "image/png": "[encoded data removed]"
          },
          "metadata": {}
        }
      ]
    },
    {
      "cell_type": "markdown",
      "source": [
        "$ \\ $\n",
        "\n",
        "-----\n",
        "\n",
        "# ***Ingenieria de variables.***\n",
        "\n",
        "$ \\ $\n",
        "\n",
        "En este punto de la prueba se espera que a partir del entendimiento logrado en el punto anterior, diseñe diferentes variables explicativas de los casos de fraude. Por ejemplo, día de la semana en que se realizó la transacción, frecuencia de transacciones entre la cuenta origen y\n",
        "cuenta destino.\n",
        "\n",
        "\n",
        ">  Proponga e implemente por lo menos cinco posibles variables explicativas.\n",
        "\n",
        "$ \\ $\n",
        "\n",
        "$\\underline{\\text{Solución:}}$"
      ],
      "metadata": {
        "id": "J2F12KLiw2l-"
      }
    },
    {
      "cell_type": "markdown",
      "source": [
        "$ \\ $\n",
        "\n",
        "Para empezar, vamos a notar una serie de observaciones para al final obtener un conjunto de variables explicativas:\n",
        "\n",
        "$ \\ $\n",
        "\n",
        "$(a)$ Todos los datos son de Estados Unidos."
      ],
      "metadata": {
        "id": "jrLk35fiYyrT"
      }
    },
    {
      "cell_type": "code",
      "source": [
        "data_2['COUNTRY'].value_counts()"
      ],
      "metadata": {
        "colab": {
          "base_uri": "https://localhost:8080/"
        },
        "id": "rvcOKr8PySXl",
        "outputId": "52f75e5e-67d5-420e-b3bf-b2fc2932945b"
      },
      "execution_count": null,
      "outputs": [
        {
          "output_type": "execute_result",
          "data": {
            "text/plain": [
              "US    10000\n",
              "Name: COUNTRY, dtype: int64"
            ]
          },
          "metadata": {},
          "execution_count": 29
        }
      ]
    },
    {
      "cell_type": "markdown",
      "source": [
        "$ \\ $\n",
        "\n",
        "$(b)$ Todos los tipos de cuenta son iguales. Por este motivo, no consideraremos la variable ***'ACCOUNT_TYPE'*** como variable explicativa."
      ],
      "metadata": {
        "id": "VSTf5u54zA3e"
      }
    },
    {
      "cell_type": "code",
      "source": [
        "data_2['ACCOUNT_TYPE'].value_counts()"
      ],
      "metadata": {
        "colab": {
          "base_uri": "https://localhost:8080/"
        },
        "id": "g_Z5qx2rgFhW",
        "outputId": "94b5c1b3-5021-4736-870c-0c623452f2a7"
      },
      "execution_count": null,
      "outputs": [
        {
          "output_type": "execute_result",
          "data": {
            "text/plain": [
              "I    10000\n",
              "Name: ACCOUNT_TYPE, dtype: int64"
            ]
          },
          "metadata": {},
          "execution_count": 30
        }
      ]
    },
    {
      "cell_type": "markdown",
      "source": [
        "$ \\ $\n",
        "\n",
        "$(c)$ Todos los tipos de transferencia son iguales.  Por este motivo, no consideraremos la variable 'TX_TYPE' como variable explicativa."
      ],
      "metadata": {
        "id": "uZmZZxVo3Y9A"
      }
    },
    {
      "cell_type": "code",
      "source": [
        "data_1[['TX_TYPE']].value_counts()"
      ],
      "metadata": {
        "id": "1dTd1cPk3hzl",
        "colab": {
          "base_uri": "https://localhost:8080/"
        },
        "outputId": "06588615-cfe6-464e-ac27-8cbd34bf7f0a"
      },
      "execution_count": null,
      "outputs": [
        {
          "output_type": "execute_result",
          "data": {
            "text/plain": [
              "TX_TYPE \n",
              "TRANSFER    1323234\n",
              "dtype: int64"
            ]
          },
          "metadata": {},
          "execution_count": 31
        }
      ]
    },
    {
      "cell_type": "markdown",
      "source": [
        "$ \\ $\n",
        "\n",
        "$(d)$ Por si es necesario, transformamos la data ***data_1['IS_FRAUD']*** en data numerica.\n"
      ],
      "metadata": {
        "id": "Zhsq0Hyi-Lop"
      }
    },
    {
      "cell_type": "code",
      "source": [
        "le = LabelEncoder()\n",
        "data_1['IS_FRAUD'] = le.fit_transform(data_1['IS_FRAUD'])"
      ],
      "metadata": {
        "id": "4Yi99qendkBm"
      },
      "execution_count": null,
      "outputs": []
    },
    {
      "cell_type": "markdown",
      "source": [
        "$ \\ $\n",
        "\n",
        "$(e)$ Los rasgos ***'ALERT_ID'*** y ***'IS_FRAUD'*** estan intimamente relacionados. Por este motivo, como consideramos estas variables linealmente dependientes, entonces no vamos a considerar a la variable ***'ALERT_ID'*** como variable explicativa, ya que conocemos lo suficiente de esta variable, entonces seria facil notar cuando una transaccion es un fraude y cuando no."
      ],
      "metadata": {
        "id": "tkvjN3adQyc5"
      }
    },
    {
      "cell_type": "code",
      "source": [
        "data_1['ALERT_ID'].value_counts().sort_values(ascending = False)"
      ],
      "metadata": {
        "id": "xSTmLFO1Lnl4",
        "colab": {
          "base_uri": "https://localhost:8080/"
        },
        "outputId": "b2f364a8-37eb-46d6-d431-bb9062861f2c"
      },
      "execution_count": null,
      "outputs": [
        {
          "output_type": "execute_result",
          "data": {
            "text/plain": [
              "-1      1321515\n",
              " 313          5\n",
              " 268          5\n",
              " 369          5\n",
              " 256          5\n",
              "         ...   \n",
              " 144          2\n",
              " 294          2\n",
              " 231          1\n",
              " 272          1\n",
              " 44           1\n",
              "Name: ALERT_ID, Length: 392, dtype: int64"
            ]
          },
          "metadata": {},
          "execution_count": 33
        }
      ]
    },
    {
      "cell_type": "code",
      "source": [
        "# estudiamos los valores de \"ALERT_ID\" y aparentemente cuando nos arroja el valor de -1 no hay fraude\n",
        "no_fraude = data_1[\"IS_FRAUD\"] == 0\n",
        "data_1[no_fraude][\"ALERT_ID\"].value_counts()"
      ],
      "metadata": {
        "id": "sMw6yX9EP8d1",
        "colab": {
          "base_uri": "https://localhost:8080/"
        },
        "outputId": "726422b0-8072-4121-818f-0f4aea8ae40b"
      },
      "execution_count": null,
      "outputs": [
        {
          "output_type": "execute_result",
          "data": {
            "text/plain": [
              "-1    1321515\n",
              "Name: ALERT_ID, dtype: int64"
            ]
          },
          "metadata": {},
          "execution_count": 34
        }
      ]
    },
    {
      "cell_type": "code",
      "source": [
        "# estudiamos los valores de \"ALERT_ID\" y aparentemente cuando nos arroja un valor distinto a -1 hay fraude\n",
        "fraude = data_1[\"IS_FRAUD\"]== 1\n",
        "data_1[fraude][\"ALERT_ID\"].value_counts()"
      ],
      "metadata": {
        "id": "7l0Dp2oqQBue",
        "colab": {
          "base_uri": "https://localhost:8080/"
        },
        "outputId": "f096c799-d6ad-42a7-badd-df8febfbfb4d"
      },
      "execution_count": null,
      "outputs": [
        {
          "output_type": "execute_result",
          "data": {
            "text/plain": [
              "270    5\n",
              "306    5\n",
              "278    5\n",
              "305    5\n",
              "399    5\n",
              "      ..\n",
              "144    2\n",
              "294    2\n",
              "231    1\n",
              "272    1\n",
              "44     1\n",
              "Name: ALERT_ID, Length: 391, dtype: int64"
            ]
          },
          "metadata": {},
          "execution_count": 35
        }
      ]
    },
    {
      "cell_type": "markdown",
      "source": [
        "$ \\ $\n",
        "\n",
        "$(f)$ Del anterior analisis, infiero que los rasgos\n",
        "\n",
        "* ***'SENDER_ACCOUNT_ID'***,\n",
        "\n",
        "* ***'TX_AMOUNT'***,\n",
        "\n",
        "*\t***'TIMESTAMP'***\n",
        "\n",
        "son variables explicativas que describen el dataframe de tranferencias para detectar si hay fraude o no."
      ],
      "metadata": {
        "id": "Ah2wEhWUji_6"
      }
    },
    {
      "cell_type": "code",
      "source": [
        "transferencias = data_1[['SENDER_ACCOUNT_ID', 'TX_AMOUNT',\t'TIMESTAMP', 'IS_FRAUD']]\n",
        "transferencias"
      ],
      "metadata": {
        "id": "4nTNo2PG7p2W",
        "colab": {
          "base_uri": "https://localhost:8080/",
          "height": 423
        },
        "outputId": "8c5e09e4-1f0d-4a77-d34e-af04640f9521"
      },
      "execution_count": null,
      "outputs": [
        {
          "output_type": "execute_result",
          "data": {
            "text/plain": [
              "         SENDER_ACCOUNT_ID  TX_AMOUNT  TIMESTAMP  IS_FRAUD\n",
              "0                     6456     465.05          0         0\n",
              "1                     7516     564.64          0         0\n",
              "2                     2445     598.94          0         0\n",
              "3                     2576     466.07          0         0\n",
              "4                     3524     405.63          0         0\n",
              "...                    ...        ...        ...       ...\n",
              "1323229               3733     112.98        199         0\n",
              "1323230               2536     459.64        199         0\n",
              "1323231               1466     468.60        199         0\n",
              "1323232               1451     562.36        199         0\n",
              "1323233                545     415.57        199         0\n",
              "\n",
              "[1323234 rows x 4 columns]"
            ],
            "text/html": [
              "\n",
              "  <div id=\"df-d8701791-5211-4c3c-b5b6-61563aefe4b8\">\n",
              "    <div class=\"colab-df-container\">\n",
              "      <div>\n",
              "<style scoped>\n",
              "    .dataframe tbody tr th:only-of-type {\n",
              "        vertical-align: middle;\n",
              "    }\n",
              "\n",
              "    .dataframe tbody tr th {\n",
              "        vertical-align: top;\n",
              "    }\n",
              "\n",
              "    .dataframe thead th {\n",
              "        text-align: right;\n",
              "    }\n",
              "</style>\n",
              "<table border=\"1\" class=\"dataframe\">\n",
              "  <thead>\n",
              "    <tr style=\"text-align: right;\">\n",
              "      <th></th>\n",
              "      <th>SENDER_ACCOUNT_ID</th>\n",
              "      <th>TX_AMOUNT</th>\n",
              "      <th>TIMESTAMP</th>\n",
              "      <th>IS_FRAUD</th>\n",
              "    </tr>\n",
              "  </thead>\n",
              "  <tbody>\n",
              "    <tr>\n",
              "      <th>0</th>\n",
              "      <td>6456</td>\n",
              "      <td>465.05</td>\n",
              "      <td>0</td>\n",
              "      <td>0</td>\n",
              "    </tr>\n",
              "    <tr>\n",
              "      <th>1</th>\n",
              "      <td>7516</td>\n",
              "      <td>564.64</td>\n",
              "      <td>0</td>\n",
              "      <td>0</td>\n",
              "    </tr>\n",
              "    <tr>\n",
              "      <th>2</th>\n",
              "      <td>2445</td>\n",
              "      <td>598.94</td>\n",
              "      <td>0</td>\n",
              "      <td>0</td>\n",
              "    </tr>\n",
              "    <tr>\n",
              "      <th>3</th>\n",
              "      <td>2576</td>\n",
              "      <td>466.07</td>\n",
              "      <td>0</td>\n",
              "      <td>0</td>\n",
              "    </tr>\n",
              "    <tr>\n",
              "      <th>4</th>\n",
              "      <td>3524</td>\n",
              "      <td>405.63</td>\n",
              "      <td>0</td>\n",
              "      <td>0</td>\n",
              "    </tr>\n",
              "    <tr>\n",
              "      <th>...</th>\n",
              "      <td>...</td>\n",
              "      <td>...</td>\n",
              "      <td>...</td>\n",
              "      <td>...</td>\n",
              "    </tr>\n",
              "    <tr>\n",
              "      <th>1323229</th>\n",
              "      <td>3733</td>\n",
              "      <td>112.98</td>\n",
              "      <td>199</td>\n",
              "      <td>0</td>\n",
              "    </tr>\n",
              "    <tr>\n",
              "      <th>1323230</th>\n",
              "      <td>2536</td>\n",
              "      <td>459.64</td>\n",
              "      <td>199</td>\n",
              "      <td>0</td>\n",
              "    </tr>\n",
              "    <tr>\n",
              "      <th>1323231</th>\n",
              "      <td>1466</td>\n",
              "      <td>468.60</td>\n",
              "      <td>199</td>\n",
              "      <td>0</td>\n",
              "    </tr>\n",
              "    <tr>\n",
              "      <th>1323232</th>\n",
              "      <td>1451</td>\n",
              "      <td>562.36</td>\n",
              "      <td>199</td>\n",
              "      <td>0</td>\n",
              "    </tr>\n",
              "    <tr>\n",
              "      <th>1323233</th>\n",
              "      <td>545</td>\n",
              "      <td>415.57</td>\n",
              "      <td>199</td>\n",
              "      <td>0</td>\n",
              "    </tr>\n",
              "  </tbody>\n",
              "</table>\n",
              "<p>1323234 rows × 4 columns</p>\n",
              "</div>\n",
              "      <button class=\"colab-df-convert\" onclick=\"convertToInteractive('df-d8701791-5211-4c3c-b5b6-61563aefe4b8')\"\n",
              "              title=\"Convert this dataframe to an interactive table.\"\n",
              "              style=\"display:none;\">\n",
              "        \n",
              "  <svg xmlns=\"http://www.w3.org/2000/svg\" height=\"24px\"viewBox=\"0 0 24 24\"\n",
              "       width=\"24px\">\n",
              "    <path d=\"M0 0h24v24H0V0z\" fill=\"none\"/>\n",
              "    <path d=\"M18.56 5.44l.94 2.06.94-2.06 2.06-.94-2.06-.94-.94-2.06-.94 2.06-2.06.94zm-11 1L8.5 8.5l.94-2.06 2.06-.94-2.06-.94L8.5 2.5l-.94 2.06-2.06.94zm10 10l.94 2.06.94-2.06 2.06-.94-2.06-.94-.94-2.06-.94 2.06-2.06.94z\"/><path d=\"M17.41 7.96l-1.37-1.37c-.4-.4-.92-.59-1.43-.59-.52 0-1.04.2-1.43.59L10.3 9.45l-7.72 7.72c-.78.78-.78 2.05 0 2.83L4 21.41c.39.39.9.59 1.41.59.51 0 1.02-.2 1.41-.59l7.78-7.78 2.81-2.81c.8-.78.8-2.07 0-2.86zM5.41 20L4 18.59l7.72-7.72 1.47 1.35L5.41 20z\"/>\n",
              "  </svg>\n",
              "      </button>\n",
              "      \n",
              "  <style>\n",
              "    .colab-df-container {\n",
              "      display:flex;\n",
              "      flex-wrap:wrap;\n",
              "      gap: 12px;\n",
              "    }\n",
              "\n",
              "    .colab-df-convert {\n",
              "      background-color: #E8F0FE;\n",
              "      border: none;\n",
              "      border-radius: 50%;\n",
              "      cursor: pointer;\n",
              "      display: none;\n",
              "      fill: #1967D2;\n",
              "      height: 32px;\n",
              "      padding: 0 0 0 0;\n",
              "      width: 32px;\n",
              "    }\n",
              "\n",
              "    .colab-df-convert:hover {\n",
              "      background-color: #E2EBFA;\n",
              "      box-shadow: 0px 1px 2px rgba(60, 64, 67, 0.3), 0px 1px 3px 1px rgba(60, 64, 67, 0.15);\n",
              "      fill: #174EA6;\n",
              "    }\n",
              "\n",
              "    [theme=dark] .colab-df-convert {\n",
              "      background-color: #3B4455;\n",
              "      fill: #D2E3FC;\n",
              "    }\n",
              "\n",
              "    [theme=dark] .colab-df-convert:hover {\n",
              "      background-color: #434B5C;\n",
              "      box-shadow: 0px 1px 3px 1px rgba(0, 0, 0, 0.15);\n",
              "      filter: drop-shadow(0px 1px 2px rgba(0, 0, 0, 0.3));\n",
              "      fill: #FFFFFF;\n",
              "    }\n",
              "  </style>\n",
              "\n",
              "      <script>\n",
              "        const buttonEl =\n",
              "          document.querySelector('#df-d8701791-5211-4c3c-b5b6-61563aefe4b8 button.colab-df-convert');\n",
              "        buttonEl.style.display =\n",
              "          google.colab.kernel.accessAllowed ? 'block' : 'none';\n",
              "\n",
              "        async function convertToInteractive(key) {\n",
              "          const element = document.querySelector('#df-d8701791-5211-4c3c-b5b6-61563aefe4b8');\n",
              "          const dataTable =\n",
              "            await google.colab.kernel.invokeFunction('convertToInteractive',\n",
              "                                                     [key], {});\n",
              "          if (!dataTable) return;\n",
              "\n",
              "          const docLinkHtml = 'Like what you see? Visit the ' +\n",
              "            '<a target=\"_blank\" href=https://colab.research.google.com/notebooks/data_table.ipynb>data table notebook</a>'\n",
              "            + ' to learn more about interactive tables.';\n",
              "          element.innerHTML = '';\n",
              "          dataTable['output_type'] = 'display_data';\n",
              "          await google.colab.output.renderOutput(dataTable, element);\n",
              "          const docLink = document.createElement('div');\n",
              "          docLink.innerHTML = docLinkHtml;\n",
              "          element.appendChild(docLink);\n",
              "        }\n",
              "      </script>\n",
              "    </div>\n",
              "  </div>\n",
              "  "
            ]
          },
          "metadata": {},
          "execution_count": 36
        }
      ]
    },
    {
      "cell_type": "markdown",
      "source": [
        "$ \\ $\n",
        "\n",
        "$(g)$ Es natural preguntarse que variable se podria proponer para ser una variable predictora, que sirva para predecir si hay fraude o no. En este caso, voy a considerar el promedio, ya que una persona normalmente tiene habitos que pueden tener una cierta tendencia y esa tendencia la podriamos pensar como el promedio o la media."
      ],
      "metadata": {
        "id": "7lqxNznzny5H"
      }
    },
    {
      "cell_type": "code",
      "source": [
        "new_column_names = {\"TX_AMOUNT\" : \"TX_AMOUNT_MEAN\",\t\"TIMESTAMP\" : \"TIMESTAMP_MEAN\"}\n",
        "new_data = transferencias[['SENDER_ACCOUNT_ID', \"TX_AMOUNT\", \"TIMESTAMP\"]].groupby(['SENDER_ACCOUNT_ID']).mean().rename(columns = new_column_names)\n",
        "new_data"
      ],
      "metadata": {
        "id": "T2KC2bPitHDp",
        "colab": {
          "base_uri": "https://localhost:8080/",
          "height": 455
        },
        "outputId": "c382282a-bf94-4447-bff9-02b21fa44452"
      },
      "execution_count": null,
      "outputs": [
        {
          "output_type": "execute_result",
          "data": {
            "text/plain": [
              "                   TX_AMOUNT_MEAN  TIMESTAMP_MEAN\n",
              "SENDER_ACCOUNT_ID                                \n",
              "1                      175.800000      120.250000\n",
              "2                      142.050000      128.888889\n",
              "3                      125.880000      124.526316\n",
              "4                      151.130000      108.347826\n",
              "5                       70.240000       86.052632\n",
              "...                           ...             ...\n",
              "9995                   392.488238       87.114286\n",
              "9996                   341.694257      114.158416\n",
              "9997                   256.632350       86.557377\n",
              "9998                   321.063563      104.307471\n",
              "9999                   311.493926      105.283668\n",
              "\n",
              "[9999 rows x 2 columns]"
            ],
            "text/html": [
              "\n",
              "  <div id=\"df-af6ee50c-171a-411c-a5a7-742df14ee8bf\">\n",
              "    <div class=\"colab-df-container\">\n",
              "      <div>\n",
              "<style scoped>\n",
              "    .dataframe tbody tr th:only-of-type {\n",
              "        vertical-align: middle;\n",
              "    }\n",
              "\n",
              "    .dataframe tbody tr th {\n",
              "        vertical-align: top;\n",
              "    }\n",
              "\n",
              "    .dataframe thead th {\n",
              "        text-align: right;\n",
              "    }\n",
              "</style>\n",
              "<table border=\"1\" class=\"dataframe\">\n",
              "  <thead>\n",
              "    <tr style=\"text-align: right;\">\n",
              "      <th></th>\n",
              "      <th>TX_AMOUNT_MEAN</th>\n",
              "      <th>TIMESTAMP_MEAN</th>\n",
              "    </tr>\n",
              "    <tr>\n",
              "      <th>SENDER_ACCOUNT_ID</th>\n",
              "      <th></th>\n",
              "      <th></th>\n",
              "    </tr>\n",
              "  </thead>\n",
              "  <tbody>\n",
              "    <tr>\n",
              "      <th>1</th>\n",
              "      <td>175.800000</td>\n",
              "      <td>120.250000</td>\n",
              "    </tr>\n",
              "    <tr>\n",
              "      <th>2</th>\n",
              "      <td>142.050000</td>\n",
              "      <td>128.888889</td>\n",
              "    </tr>\n",
              "    <tr>\n",
              "      <th>3</th>\n",
              "      <td>125.880000</td>\n",
              "      <td>124.526316</td>\n",
              "    </tr>\n",
              "    <tr>\n",
              "      <th>4</th>\n",
              "      <td>151.130000</td>\n",
              "      <td>108.347826</td>\n",
              "    </tr>\n",
              "    <tr>\n",
              "      <th>5</th>\n",
              "      <td>70.240000</td>\n",
              "      <td>86.052632</td>\n",
              "    </tr>\n",
              "    <tr>\n",
              "      <th>...</th>\n",
              "      <td>...</td>\n",
              "      <td>...</td>\n",
              "    </tr>\n",
              "    <tr>\n",
              "      <th>9995</th>\n",
              "      <td>392.488238</td>\n",
              "      <td>87.114286</td>\n",
              "    </tr>\n",
              "    <tr>\n",
              "      <th>9996</th>\n",
              "      <td>341.694257</td>\n",
              "      <td>114.158416</td>\n",
              "    </tr>\n",
              "    <tr>\n",
              "      <th>9997</th>\n",
              "      <td>256.632350</td>\n",
              "      <td>86.557377</td>\n",
              "    </tr>\n",
              "    <tr>\n",
              "      <th>9998</th>\n",
              "      <td>321.063563</td>\n",
              "      <td>104.307471</td>\n",
              "    </tr>\n",
              "    <tr>\n",
              "      <th>9999</th>\n",
              "      <td>311.493926</td>\n",
              "      <td>105.283668</td>\n",
              "    </tr>\n",
              "  </tbody>\n",
              "</table>\n",
              "<p>9999 rows × 2 columns</p>\n",
              "</div>\n",
              "      <button class=\"colab-df-convert\" onclick=\"convertToInteractive('df-af6ee50c-171a-411c-a5a7-742df14ee8bf')\"\n",
              "              title=\"Convert this dataframe to an interactive table.\"\n",
              "              style=\"display:none;\">\n",
              "        \n",
              "  <svg xmlns=\"http://www.w3.org/2000/svg\" height=\"24px\"viewBox=\"0 0 24 24\"\n",
              "       width=\"24px\">\n",
              "    <path d=\"M0 0h24v24H0V0z\" fill=\"none\"/>\n",
              "    <path d=\"M18.56 5.44l.94 2.06.94-2.06 2.06-.94-2.06-.94-.94-2.06-.94 2.06-2.06.94zm-11 1L8.5 8.5l.94-2.06 2.06-.94-2.06-.94L8.5 2.5l-.94 2.06-2.06.94zm10 10l.94 2.06.94-2.06 2.06-.94-2.06-.94-.94-2.06-.94 2.06-2.06.94z\"/><path d=\"M17.41 7.96l-1.37-1.37c-.4-.4-.92-.59-1.43-.59-.52 0-1.04.2-1.43.59L10.3 9.45l-7.72 7.72c-.78.78-.78 2.05 0 2.83L4 21.41c.39.39.9.59 1.41.59.51 0 1.02-.2 1.41-.59l7.78-7.78 2.81-2.81c.8-.78.8-2.07 0-2.86zM5.41 20L4 18.59l7.72-7.72 1.47 1.35L5.41 20z\"/>\n",
              "  </svg>\n",
              "      </button>\n",
              "      \n",
              "  <style>\n",
              "    .colab-df-container {\n",
              "      display:flex;\n",
              "      flex-wrap:wrap;\n",
              "      gap: 12px;\n",
              "    }\n",
              "\n",
              "    .colab-df-convert {\n",
              "      background-color: #E8F0FE;\n",
              "      border: none;\n",
              "      border-radius: 50%;\n",
              "      cursor: pointer;\n",
              "      display: none;\n",
              "      fill: #1967D2;\n",
              "      height: 32px;\n",
              "      padding: 0 0 0 0;\n",
              "      width: 32px;\n",
              "    }\n",
              "\n",
              "    .colab-df-convert:hover {\n",
              "      background-color: #E2EBFA;\n",
              "      box-shadow: 0px 1px 2px rgba(60, 64, 67, 0.3), 0px 1px 3px 1px rgba(60, 64, 67, 0.15);\n",
              "      fill: #174EA6;\n",
              "    }\n",
              "\n",
              "    [theme=dark] .colab-df-convert {\n",
              "      background-color: #3B4455;\n",
              "      fill: #D2E3FC;\n",
              "    }\n",
              "\n",
              "    [theme=dark] .colab-df-convert:hover {\n",
              "      background-color: #434B5C;\n",
              "      box-shadow: 0px 1px 3px 1px rgba(0, 0, 0, 0.15);\n",
              "      filter: drop-shadow(0px 1px 2px rgba(0, 0, 0, 0.3));\n",
              "      fill: #FFFFFF;\n",
              "    }\n",
              "  </style>\n",
              "\n",
              "      <script>\n",
              "        const buttonEl =\n",
              "          document.querySelector('#df-af6ee50c-171a-411c-a5a7-742df14ee8bf button.colab-df-convert');\n",
              "        buttonEl.style.display =\n",
              "          google.colab.kernel.accessAllowed ? 'block' : 'none';\n",
              "\n",
              "        async function convertToInteractive(key) {\n",
              "          const element = document.querySelector('#df-af6ee50c-171a-411c-a5a7-742df14ee8bf');\n",
              "          const dataTable =\n",
              "            await google.colab.kernel.invokeFunction('convertToInteractive',\n",
              "                                                     [key], {});\n",
              "          if (!dataTable) return;\n",
              "\n",
              "          const docLinkHtml = 'Like what you see? Visit the ' +\n",
              "            '<a target=\"_blank\" href=https://colab.research.google.com/notebooks/data_table.ipynb>data table notebook</a>'\n",
              "            + ' to learn more about interactive tables.';\n",
              "          element.innerHTML = '';\n",
              "          dataTable['output_type'] = 'display_data';\n",
              "          await google.colab.output.renderOutput(dataTable, element);\n",
              "          const docLink = document.createElement('div');\n",
              "          docLink.innerHTML = docLinkHtml;\n",
              "          element.appendChild(docLink);\n",
              "        }\n",
              "      </script>\n",
              "    </div>\n",
              "  </div>\n",
              "  "
            ]
          },
          "metadata": {},
          "execution_count": 37
        }
      ]
    },
    {
      "cell_type": "markdown",
      "source": [
        "$ \\ $\n",
        "\n",
        "$(h)$ Ahora, actualizaremos nuestro dataframe ***transferencias*** con dos nuevas columnas que describen el promedio de los datos anteriores."
      ],
      "metadata": {
        "id": "aRy-SGWYuGQd"
      }
    },
    {
      "cell_type": "code",
      "source": [
        "TX_AMOUNT_MEAN = {}\n",
        "TIMESTAMP_MEAN = {}\n",
        "\n",
        "for i in range(transferencias.shape[0]):\n",
        "  x = transferencias.loc[i, \"SENDER_ACCOUNT_ID\"]\n",
        "  TX_AMOUNT_MEAN[i] = new_data.loc[x, \"TX_AMOUNT_MEAN\"]\n",
        "  TIMESTAMP_MEAN[i] = new_data.loc[x, \"TIMESTAMP_MEAN\"]\n",
        "\n",
        "transferencias[\"TX_AMOUNT_MEAN\"] = TX_AMOUNT_MEAN\n",
        "transferencias[\"TIMESTAMP_MEAN\"] = TIMESTAMP_MEAN"
      ],
      "metadata": {
        "id": "I9pPhsOD2OTs",
        "colab": {
          "base_uri": "https://localhost:8080/"
        },
        "outputId": "35314197-3b15-4fda-cf63-9cbd3943df4e"
      },
      "execution_count": null,
      "outputs": [
        {
          "output_type": "stream",
          "name": "stderr",
          "text": [
            "<ipython-input-38-48a4d85d4a7b>:9: SettingWithCopyWarning: \n",
            "A value is trying to be set on a copy of a slice from a DataFrame.\n",
            "Try using .loc[row_indexer,col_indexer] = value instead\n",
            "\n",
            "See the caveats in the documentation: https://pandas.pydata.org/pandas-docs/stable/user_guide/indexing.html#returning-a-view-versus-a-copy\n",
            "  transferencias[\"TX_AMOUNT_MEAN\"] = TX_AMOUNT_MEAN\n",
            "<ipython-input-38-48a4d85d4a7b>:10: SettingWithCopyWarning: \n",
            "A value is trying to be set on a copy of a slice from a DataFrame.\n",
            "Try using .loc[row_indexer,col_indexer] = value instead\n",
            "\n",
            "See the caveats in the documentation: https://pandas.pydata.org/pandas-docs/stable/user_guide/indexing.html#returning-a-view-versus-a-copy\n",
            "  transferencias[\"TIMESTAMP_MEAN\"] = TIMESTAMP_MEAN\n"
          ]
        }
      ]
    },
    {
      "cell_type": "code",
      "source": [
        "transferencias"
      ],
      "metadata": {
        "id": "klKwUULJ98wV",
        "colab": {
          "base_uri": "https://localhost:8080/",
          "height": 423
        },
        "outputId": "7c9506c7-e14a-439e-dd83-b8d36024d77b"
      },
      "execution_count": null,
      "outputs": [
        {
          "output_type": "execute_result",
          "data": {
            "text/plain": [
              "         SENDER_ACCOUNT_ID  TX_AMOUNT  TIMESTAMP  IS_FRAUD  TX_AMOUNT_MEAN  \\\n",
              "0                     6456     465.05          0         0      465.050000   \n",
              "1                     7516     564.64          0         0      564.640000   \n",
              "2                     2445     598.94          0         0      598.940000   \n",
              "3                     2576     466.07          0         0      466.070000   \n",
              "4                     3524     405.63          0         0      405.630000   \n",
              "...                    ...        ...        ...       ...             ...   \n",
              "1323229               3733     112.98        199         0      112.980000   \n",
              "1323230               2536     459.64        199         0      457.119061   \n",
              "1323231               1466     468.60        199         0      468.600000   \n",
              "1323232               1451     562.36        199         0      562.360000   \n",
              "1323233                545     415.57        199         0      415.570000   \n",
              "\n",
              "         TIMESTAMP_MEAN  \n",
              "0             99.444444  \n",
              "1             99.333333  \n",
              "2             99.111111  \n",
              "3             99.222222  \n",
              "4             99.444444  \n",
              "...                 ...  \n",
              "1323229      104.000000  \n",
              "1323230       98.790055  \n",
              "1323231      100.893258  \n",
              "1323232      100.446927  \n",
              "1323233      100.893258  \n",
              "\n",
              "[1323234 rows x 6 columns]"
            ],
            "text/html": [
              "\n",
              "  <div id=\"df-3974dd52-6f97-4ec0-81b9-06306efcab4e\">\n",
              "    <div class=\"colab-df-container\">\n",
              "      <div>\n",
              "<style scoped>\n",
              "    .dataframe tbody tr th:only-of-type {\n",
              "        vertical-align: middle;\n",
              "    }\n",
              "\n",
              "    .dataframe tbody tr th {\n",
              "        vertical-align: top;\n",
              "    }\n",
              "\n",
              "    .dataframe thead th {\n",
              "        text-align: right;\n",
              "    }\n",
              "</style>\n",
              "<table border=\"1\" class=\"dataframe\">\n",
              "  <thead>\n",
              "    <tr style=\"text-align: right;\">\n",
              "      <th></th>\n",
              "      <th>SENDER_ACCOUNT_ID</th>\n",
              "      <th>TX_AMOUNT</th>\n",
              "      <th>TIMESTAMP</th>\n",
              "      <th>IS_FRAUD</th>\n",
              "      <th>TX_AMOUNT_MEAN</th>\n",
              "      <th>TIMESTAMP_MEAN</th>\n",
              "    </tr>\n",
              "  </thead>\n",
              "  <tbody>\n",
              "    <tr>\n",
              "      <th>0</th>\n",
              "      <td>6456</td>\n",
              "      <td>465.05</td>\n",
              "      <td>0</td>\n",
              "      <td>0</td>\n",
              "      <td>465.050000</td>\n",
              "      <td>99.444444</td>\n",
              "    </tr>\n",
              "    <tr>\n",
              "      <th>1</th>\n",
              "      <td>7516</td>\n",
              "      <td>564.64</td>\n",
              "      <td>0</td>\n",
              "      <td>0</td>\n",
              "      <td>564.640000</td>\n",
              "      <td>99.333333</td>\n",
              "    </tr>\n",
              "    <tr>\n",
              "      <th>2</th>\n",
              "      <td>2445</td>\n",
              "      <td>598.94</td>\n",
              "      <td>0</td>\n",
              "      <td>0</td>\n",
              "      <td>598.940000</td>\n",
              "      <td>99.111111</td>\n",
              "    </tr>\n",
              "    <tr>\n",
              "      <th>3</th>\n",
              "      <td>2576</td>\n",
              "      <td>466.07</td>\n",
              "      <td>0</td>\n",
              "      <td>0</td>\n",
              "      <td>466.070000</td>\n",
              "      <td>99.222222</td>\n",
              "    </tr>\n",
              "    <tr>\n",
              "      <th>4</th>\n",
              "      <td>3524</td>\n",
              "      <td>405.63</td>\n",
              "      <td>0</td>\n",
              "      <td>0</td>\n",
              "      <td>405.630000</td>\n",
              "      <td>99.444444</td>\n",
              "    </tr>\n",
              "    <tr>\n",
              "      <th>...</th>\n",
              "      <td>...</td>\n",
              "      <td>...</td>\n",
              "      <td>...</td>\n",
              "      <td>...</td>\n",
              "      <td>...</td>\n",
              "      <td>...</td>\n",
              "    </tr>\n",
              "    <tr>\n",
              "      <th>1323229</th>\n",
              "      <td>3733</td>\n",
              "      <td>112.98</td>\n",
              "      <td>199</td>\n",
              "      <td>0</td>\n",
              "      <td>112.980000</td>\n",
              "      <td>104.000000</td>\n",
              "    </tr>\n",
              "    <tr>\n",
              "      <th>1323230</th>\n",
              "      <td>2536</td>\n",
              "      <td>459.64</td>\n",
              "      <td>199</td>\n",
              "      <td>0</td>\n",
              "      <td>457.119061</td>\n",
              "      <td>98.790055</td>\n",
              "    </tr>\n",
              "    <tr>\n",
              "      <th>1323231</th>\n",
              "      <td>1466</td>\n",
              "      <td>468.60</td>\n",
              "      <td>199</td>\n",
              "      <td>0</td>\n",
              "      <td>468.600000</td>\n",
              "      <td>100.893258</td>\n",
              "    </tr>\n",
              "    <tr>\n",
              "      <th>1323232</th>\n",
              "      <td>1451</td>\n",
              "      <td>562.36</td>\n",
              "      <td>199</td>\n",
              "      <td>0</td>\n",
              "      <td>562.360000</td>\n",
              "      <td>100.446927</td>\n",
              "    </tr>\n",
              "    <tr>\n",
              "      <th>1323233</th>\n",
              "      <td>545</td>\n",
              "      <td>415.57</td>\n",
              "      <td>199</td>\n",
              "      <td>0</td>\n",
              "      <td>415.570000</td>\n",
              "      <td>100.893258</td>\n",
              "    </tr>\n",
              "  </tbody>\n",
              "</table>\n",
              "<p>1323234 rows × 6 columns</p>\n",
              "</div>\n",
              "      <button class=\"colab-df-convert\" onclick=\"convertToInteractive('df-3974dd52-6f97-4ec0-81b9-06306efcab4e')\"\n",
              "              title=\"Convert this dataframe to an interactive table.\"\n",
              "              style=\"display:none;\">\n",
              "        \n",
              "  <svg xmlns=\"http://www.w3.org/2000/svg\" height=\"24px\"viewBox=\"0 0 24 24\"\n",
              "       width=\"24px\">\n",
              "    <path d=\"M0 0h24v24H0V0z\" fill=\"none\"/>\n",
              "    <path d=\"M18.56 5.44l.94 2.06.94-2.06 2.06-.94-2.06-.94-.94-2.06-.94 2.06-2.06.94zm-11 1L8.5 8.5l.94-2.06 2.06-.94-2.06-.94L8.5 2.5l-.94 2.06-2.06.94zm10 10l.94 2.06.94-2.06 2.06-.94-2.06-.94-.94-2.06-.94 2.06-2.06.94z\"/><path d=\"M17.41 7.96l-1.37-1.37c-.4-.4-.92-.59-1.43-.59-.52 0-1.04.2-1.43.59L10.3 9.45l-7.72 7.72c-.78.78-.78 2.05 0 2.83L4 21.41c.39.39.9.59 1.41.59.51 0 1.02-.2 1.41-.59l7.78-7.78 2.81-2.81c.8-.78.8-2.07 0-2.86zM5.41 20L4 18.59l7.72-7.72 1.47 1.35L5.41 20z\"/>\n",
              "  </svg>\n",
              "      </button>\n",
              "      \n",
              "  <style>\n",
              "    .colab-df-container {\n",
              "      display:flex;\n",
              "      flex-wrap:wrap;\n",
              "      gap: 12px;\n",
              "    }\n",
              "\n",
              "    .colab-df-convert {\n",
              "      background-color: #E8F0FE;\n",
              "      border: none;\n",
              "      border-radius: 50%;\n",
              "      cursor: pointer;\n",
              "      display: none;\n",
              "      fill: #1967D2;\n",
              "      height: 32px;\n",
              "      padding: 0 0 0 0;\n",
              "      width: 32px;\n",
              "    }\n",
              "\n",
              "    .colab-df-convert:hover {\n",
              "      background-color: #E2EBFA;\n",
              "      box-shadow: 0px 1px 2px rgba(60, 64, 67, 0.3), 0px 1px 3px 1px rgba(60, 64, 67, 0.15);\n",
              "      fill: #174EA6;\n",
              "    }\n",
              "\n",
              "    [theme=dark] .colab-df-convert {\n",
              "      background-color: #3B4455;\n",
              "      fill: #D2E3FC;\n",
              "    }\n",
              "\n",
              "    [theme=dark] .colab-df-convert:hover {\n",
              "      background-color: #434B5C;\n",
              "      box-shadow: 0px 1px 3px 1px rgba(0, 0, 0, 0.15);\n",
              "      filter: drop-shadow(0px 1px 2px rgba(0, 0, 0, 0.3));\n",
              "      fill: #FFFFFF;\n",
              "    }\n",
              "  </style>\n",
              "\n",
              "      <script>\n",
              "        const buttonEl =\n",
              "          document.querySelector('#df-3974dd52-6f97-4ec0-81b9-06306efcab4e button.colab-df-convert');\n",
              "        buttonEl.style.display =\n",
              "          google.colab.kernel.accessAllowed ? 'block' : 'none';\n",
              "\n",
              "        async function convertToInteractive(key) {\n",
              "          const element = document.querySelector('#df-3974dd52-6f97-4ec0-81b9-06306efcab4e');\n",
              "          const dataTable =\n",
              "            await google.colab.kernel.invokeFunction('convertToInteractive',\n",
              "                                                     [key], {});\n",
              "          if (!dataTable) return;\n",
              "\n",
              "          const docLinkHtml = 'Like what you see? Visit the ' +\n",
              "            '<a target=\"_blank\" href=https://colab.research.google.com/notebooks/data_table.ipynb>data table notebook</a>'\n",
              "            + ' to learn more about interactive tables.';\n",
              "          element.innerHTML = '';\n",
              "          dataTable['output_type'] = 'display_data';\n",
              "          await google.colab.output.renderOutput(dataTable, element);\n",
              "          const docLink = document.createElement('div');\n",
              "          docLink.innerHTML = docLinkHtml;\n",
              "          element.appendChild(docLink);\n",
              "        }\n",
              "      </script>\n",
              "    </div>\n",
              "  </div>\n",
              "  "
            ]
          },
          "metadata": {},
          "execution_count": 39
        }
      ]
    },
    {
      "cell_type": "markdown",
      "source": [
        "$ \\ $\n",
        "\n",
        "## ***Conclusión***\n",
        "\n",
        "Las variables explicativas que hacen posible una deteccion de un posible fraude son:\n",
        "\n",
        "* ***SENDER_ACCOUNT_ID***\n",
        "\n",
        "* ***TX_AMOUNT***\n",
        "\n",
        "* ***TIMESTAMP***\n",
        "\n",
        "* ***IS_FRAUD***\n",
        "\n",
        "* ***TX_AMOUNT_MEAN***\n",
        "\n",
        "*\t***TIMESTAMP_MEAN***"
      ],
      "metadata": {
        "id": "TjsEgryi1bGU"
      }
    },
    {
      "cell_type": "markdown",
      "source": [
        "$ \\ $\n",
        "\n",
        "----\n",
        "\n",
        "## ***Entrenamiento de modelo de detección de fraude***\n",
        "\n",
        "$ \\ $\n",
        "\n",
        "Teniendo en cuenta los procedimientos anteriores, entrene un modelo supervisado para la\n",
        "detección de transacciones fraudulentas. Por ejemplo, un modelo de clasificación.\n",
        "\n",
        "\n",
        "$ \\ $\n",
        "\n",
        "$\\underline{\\text{Solución:}}$"
      ],
      "metadata": {
        "id": "yRTKU5ax4Nze"
      }
    },
    {
      "cell_type": "markdown",
      "source": [
        "$ \\ $\n",
        "\n",
        "$(1)$ Separamos nuestro conjunto de datos, teniendo en cuenta que:\n",
        "\n",
        "$ \\ $\n",
        "\n",
        "> $(a)$ Data predictiva$(X):=$ El complemento de el rasgo \"IS_FRAUD\" en transacciones.\n",
        "\n",
        "> $(b)$ Data objetivo$(y):=$ El rasgo \"IS_FRAUD\" en transacciones."
      ],
      "metadata": {
        "id": "nKPg_51K2VYv"
      }
    },
    {
      "cell_type": "code",
      "source": [
        "X = transferencias[set(transferencias.columns)-{\"IS_FRAUD\"}]\n",
        "y = transferencias[\"IS_FRAUD\"]"
      ],
      "metadata": {
        "id": "qRNIHoI07Vs3"
      },
      "execution_count": null,
      "outputs": []
    },
    {
      "cell_type": "markdown",
      "source": [
        "$ \\ $\n",
        "\n",
        "$(2)$ Separamos nuestra data en data de entrenamiento y data de prueba para nuestro modelo, teniendo en cuenta que:\n",
        "\n",
        "* El tamaño de la data de prueba es el $20\\%$ de la data completa.\n",
        "\n",
        "* El tamaño de la data de entrenamiento es el $80\\%$ de la data completa."
      ],
      "metadata": {
        "id": "vxdgHcZ39FPk"
      }
    },
    {
      "cell_type": "code",
      "source": [
        "X_train, X_test, y_train, y_test = train_test_split(X, y, test_size = 0.2, stratify = y, random_state = 123)"
      ],
      "metadata": {
        "id": "bPeKmbmB6-HW"
      },
      "execution_count": null,
      "outputs": []
    },
    {
      "cell_type": "markdown",
      "source": [
        "$ \\ $\n",
        "\n",
        "$(3)$ Creamos un arbol clasificador."
      ],
      "metadata": {
        "id": "0yqyoHiSsVYg"
      }
    },
    {
      "cell_type": "code",
      "source": [
        "# Creamos un arbol clasificador con los parametros dados por defecto\n",
        "model = DecisionTreeClassifier(random_state = 123)"
      ],
      "metadata": {
        "id": "igE2gyoMvjKG"
      },
      "execution_count": null,
      "outputs": []
    },
    {
      "cell_type": "markdown",
      "source": [
        "$ \\ $\n",
        "\n",
        "$(4)$ Entrenamos nuestro modelo clasificador con la data de entrenamiento."
      ],
      "metadata": {
        "id": "bg4qtov4wl98"
      }
    },
    {
      "cell_type": "code",
      "source": [
        "model.fit(X_train, y_train)"
      ],
      "metadata": {
        "id": "4Otw89a9wrEf",
        "colab": {
          "base_uri": "https://localhost:8080/",
          "height": 74
        },
        "outputId": "74fd84d2-3163-42f5-8368-cf3d5d8dfcdc"
      },
      "execution_count": null,
      "outputs": [
        {
          "output_type": "execute_result",
          "data": {
            "text/plain": [
              "DecisionTreeClassifier(random_state=123)"
            ],
            "text/html": [
              "<style>#sk-container-id-1 {color: black;background-color: white;}#sk-container-id-1 pre{padding: 0;}#sk-container-id-1 div.sk-toggleable {background-color: white;}#sk-container-id-1 label.sk-toggleable__label {cursor: pointer;display: block;width: 100%;margin-bottom: 0;padding: 0.3em;box-sizing: border-box;text-align: center;}#sk-container-id-1 label.sk-toggleable__label-arrow:before {content: \"▸\";float: left;margin-right: 0.25em;color: #696969;}#sk-container-id-1 label.sk-toggleable__label-arrow:hover:before {color: black;}#sk-container-id-1 div.sk-estimator:hover label.sk-toggleable__label-arrow:before {color: black;}#sk-container-id-1 div.sk-toggleable__content {max-height: 0;max-width: 0;overflow: hidden;text-align: left;background-color: #f0f8ff;}#sk-container-id-1 div.sk-toggleable__content pre {margin: 0.2em;color: black;border-radius: 0.25em;background-color: #f0f8ff;}#sk-container-id-1 input.sk-toggleable__control:checked~div.sk-toggleable__content {max-height: 200px;max-width: 100%;overflow: auto;}#sk-container-id-1 input.sk-toggleable__control:checked~label.sk-toggleable__label-arrow:before {content: \"▾\";}#sk-container-id-1 div.sk-estimator input.sk-toggleable__control:checked~label.sk-toggleable__label {background-color: #d4ebff;}#sk-container-id-1 div.sk-label input.sk-toggleable__control:checked~label.sk-toggleable__label {background-color: #d4ebff;}#sk-container-id-1 input.sk-hidden--visually {border: 0;clip: rect(1px 1px 1px 1px);clip: rect(1px, 1px, 1px, 1px);height: 1px;margin: -1px;overflow: hidden;padding: 0;position: absolute;width: 1px;}#sk-container-id-1 div.sk-estimator {font-family: monospace;background-color: #f0f8ff;border: 1px dotted black;border-radius: 0.25em;box-sizing: border-box;margin-bottom: 0.5em;}#sk-container-id-1 div.sk-estimator:hover {background-color: #d4ebff;}#sk-container-id-1 div.sk-parallel-item::after {content: \"\";width: 100%;border-bottom: 1px solid gray;flex-grow: 1;}#sk-container-id-1 div.sk-label:hover label.sk-toggleable__label {background-color: #d4ebff;}#sk-container-id-1 div.sk-serial::before {content: \"\";position: absolute;border-left: 1px solid gray;box-sizing: border-box;top: 0;bottom: 0;left: 50%;z-index: 0;}#sk-container-id-1 div.sk-serial {display: flex;flex-direction: column;align-items: center;background-color: white;padding-right: 0.2em;padding-left: 0.2em;position: relative;}#sk-container-id-1 div.sk-item {position: relative;z-index: 1;}#sk-container-id-1 div.sk-parallel {display: flex;align-items: stretch;justify-content: center;background-color: white;position: relative;}#sk-container-id-1 div.sk-item::before, #sk-container-id-1 div.sk-parallel-item::before {content: \"\";position: absolute;border-left: 1px solid gray;box-sizing: border-box;top: 0;bottom: 0;left: 50%;z-index: -1;}#sk-container-id-1 div.sk-parallel-item {display: flex;flex-direction: column;z-index: 1;position: relative;background-color: white;}#sk-container-id-1 div.sk-parallel-item:first-child::after {align-self: flex-end;width: 50%;}#sk-container-id-1 div.sk-parallel-item:last-child::after {align-self: flex-start;width: 50%;}#sk-container-id-1 div.sk-parallel-item:only-child::after {width: 0;}#sk-container-id-1 div.sk-dashed-wrapped {border: 1px dashed gray;margin: 0 0.4em 0.5em 0.4em;box-sizing: border-box;padding-bottom: 0.4em;background-color: white;}#sk-container-id-1 div.sk-label label {font-family: monospace;font-weight: bold;display: inline-block;line-height: 1.2em;}#sk-container-id-1 div.sk-label-container {text-align: center;}#sk-container-id-1 div.sk-container {/* jupyter's `normalize.less` sets `[hidden] { display: none; }` but bootstrap.min.css set `[hidden] { display: none !important; }` so we also need the `!important` here to be able to override the default hidden behavior on the sphinx rendered scikit-learn.org. See: https://github.com/scikit-learn/scikit-learn/issues/21755 */display: inline-block !important;position: relative;}#sk-container-id-1 div.sk-text-repr-fallback {display: none;}</style><div id=\"sk-container-id-1\" class=\"sk-top-container\"><div class=\"sk-text-repr-fallback\"><pre>DecisionTreeClassifier(random_state=123)</pre><b>In a Jupyter environment, please rerun this cell to show the HTML representation or trust the notebook. <br />On GitHub, the HTML representation is unable to render, please try loading this page with nbviewer.org.</b></div><div class=\"sk-container\" hidden><div class=\"sk-item\"><div class=\"sk-estimator sk-toggleable\"><input class=\"sk-toggleable__control sk-hidden--visually\" id=\"sk-estimator-id-1\" type=\"checkbox\" checked><label for=\"sk-estimator-id-1\" class=\"sk-toggleable__label sk-toggleable__label-arrow\">DecisionTreeClassifier</label><div class=\"sk-toggleable__content\"><pre>DecisionTreeClassifier(random_state=123)</pre></div></div></div></div></div>"
            ]
          },
          "metadata": {},
          "execution_count": 43
        }
      ]
    },
    {
      "cell_type": "markdown",
      "source": [
        "$ \\ $\n",
        "\n",
        "$(5)$ Realizamos una prediccion de un conjunto de datos apartir del modelo entrenado y la data de prueba obtenida anteriormente."
      ],
      "metadata": {
        "id": "ZZ1DnBsXw5tL"
      }
    },
    {
      "cell_type": "code",
      "source": [
        "y_pred = model.predict(X_test)"
      ],
      "metadata": {
        "id": "zQ7BvMWQxqwk"
      },
      "execution_count": null,
      "outputs": []
    },
    {
      "cell_type": "markdown",
      "source": [
        "$ \\ $\n",
        "\n",
        "$(6)$ Verificamos que tan preciso son los datos predecidos. Para esto, creamos una funcion que nos diga cuan preciso es nuestro modelo deacuerdo a diferentes metricas para estar mas seguros."
      ],
      "metadata": {
        "id": "VJzt9vj1x01n"
      }
    },
    {
      "cell_type": "code",
      "source": [
        "def evaluate_metrics(y_test, y_pred):\n",
        "\n",
        "    # creamos un diccionario vacio\n",
        "    results_pos = {}\n",
        "\n",
        "    # usamos la funcion accuracy_score para obtener la precision entre la data de prueba y la data predecida, y guardamos estos resultados en el diccionario\n",
        "    results_pos['accuracy'] = accuracy_score(y_test, y_pred)\n",
        "\n",
        "    # obtenemos los valores precision, recall, f_beta entre la data de prueba y la data predecida\n",
        "    precision, recall, f_beta, _ = precision_recall_fscore_support(y_test, y_pred, average = 'binary')\n",
        "\n",
        "    # Guardamos los resultados anteriores en el diccionario\n",
        "    results_pos['recall'] = recall\n",
        "\n",
        "    # Guardamos los resultados anteriores en el diccionario\n",
        "    results_pos['precision'] = precision\n",
        "\n",
        "    # Guardamos los resultados anteriores en el diccionario\n",
        "    results_pos['f1score'] = f_beta\n",
        "\n",
        "    # la funcion devuelve el diccionario creado anteriormente\n",
        "    return results_pos"
      ],
      "metadata": {
        "id": "jj7NWaRHyBs3"
      },
      "execution_count": null,
      "outputs": []
    },
    {
      "cell_type": "code",
      "source": [
        "evaluate_metrics(y_test, y_pred)"
      ],
      "metadata": {
        "id": "ydMppesdySVX",
        "colab": {
          "base_uri": "https://localhost:8080/"
        },
        "outputId": "d2bcf5e2-51e8-46b5-d779-7af77bf49975"
      },
      "execution_count": null,
      "outputs": [
        {
          "output_type": "execute_result",
          "data": {
            "text/plain": [
              "{'accuracy': 0.9999584351985853,\n",
              " 'recall': 0.9680232558139535,\n",
              " 'precision': 1.0,\n",
              " 'f1score': 0.983751846381093}"
            ]
          },
          "metadata": {},
          "execution_count": 46
        }
      ]
    },
    {
      "cell_type": "markdown",
      "source": [
        "De esta parte, notamos que el modelo predictivo es muy bueno."
      ],
      "metadata": {
        "id": "Beih1ajLymep"
      }
    }
  ]
}